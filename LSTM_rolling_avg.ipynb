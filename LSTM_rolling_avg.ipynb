{
 "cells": [
  {
   "cell_type": "code",
   "execution_count": 1,
   "id": "f6255dc3",
   "metadata": {},
   "outputs": [],
   "source": [
    "import pandas as pd\n",
    "import numpy as np\n",
    "from sklearn.preprocessing import MinMaxScaler, LabelEncoder\n",
    "from sklearn.model_selection import train_test_split\n",
    "import tensorflow as tf\n",
    "from tensorflow.keras.models import Sequential, Model\n",
    "from tensorflow.keras.layers import Input, LSTM, Dense, Embedding, Concatenate, Flatten\n",
    "from tensorflow.keras.callbacks import EarlyStopping\n",
    "import re"
   ]
  },
  {
   "cell_type": "code",
   "execution_count": 2,
   "id": "04a5913b",
   "metadata": {},
   "outputs": [],
   "source": [
    "df_ts_series = pd.read_csv('df.ts.series2.csv')"
   ]
  },
  {
   "cell_type": "code",
   "execution_count": 3,
   "id": "78b7f206",
   "metadata": {},
   "outputs": [],
   "source": [
    "df_ts_series = df_ts_series[df_ts_series['species'] != 'Pseudotsuga menziesii']"
   ]
  },
  {
   "cell_type": "code",
   "execution_count": 4,
   "id": "31984b4f",
   "metadata": {},
   "outputs": [
    {
     "data": {
      "text/html": [
       "<div>\n",
       "<style scoped>\n",
       "    .dataframe tbody tr th:only-of-type {\n",
       "        vertical-align: middle;\n",
       "    }\n",
       "\n",
       "    .dataframe tbody tr th {\n",
       "        vertical-align: top;\n",
       "    }\n",
       "\n",
       "    .dataframe thead th {\n",
       "        text-align: right;\n",
       "    }\n",
       "</style>\n",
       "<table border=\"1\" class=\"dataframe\">\n",
       "  <thead>\n",
       "    <tr style=\"text-align: right;\">\n",
       "      <th></th>\n",
       "      <th>Unnamed: 0</th>\n",
       "      <th>site</th>\n",
       "      <th>tree.id</th>\n",
       "      <th>ts</th>\n",
       "      <th>twd</th>\n",
       "      <th>pr</th>\n",
       "      <th>at</th>\n",
       "      <th>ws</th>\n",
       "      <th>dp</th>\n",
       "      <th>sr</th>\n",
       "      <th>...</th>\n",
       "      <th>day.of.year_rolling30</th>\n",
       "      <th>site_longitude</th>\n",
       "      <th>site_latitude</th>\n",
       "      <th>site_easting</th>\n",
       "      <th>site_northing</th>\n",
       "      <th>mch_ind_closest</th>\n",
       "      <th>mch_easting</th>\n",
       "      <th>mch_northing</th>\n",
       "      <th>mch_elevation</th>\n",
       "      <th>mch_site_eucldist</th>\n",
       "    </tr>\n",
       "  </thead>\n",
       "  <tbody>\n",
       "    <tr>\n",
       "      <th>0</th>\n",
       "      <td>1</td>\n",
       "      <td>Bachtel-Forest</td>\n",
       "      <td>1</td>\n",
       "      <td>2020-01-01</td>\n",
       "      <td>0.000000</td>\n",
       "      <td>-4.967054e-09</td>\n",
       "      <td>0.684757</td>\n",
       "      <td>1.197186</td>\n",
       "      <td>-3.640214</td>\n",
       "      <td>62.291590</td>\n",
       "      <td>...</td>\n",
       "      <td>NaN</td>\n",
       "      <td>8.89016</td>\n",
       "      <td>47.29413</td>\n",
       "      <td>2.709787e+06</td>\n",
       "      <td>1.239153e+06</td>\n",
       "      <td>46975</td>\n",
       "      <td>2.710088e+06</td>\n",
       "      <td>1.239223e+06</td>\n",
       "      <td>882.140575</td>\n",
       "      <td>308.935980</td>\n",
       "    </tr>\n",
       "    <tr>\n",
       "      <th>1</th>\n",
       "      <td>2</td>\n",
       "      <td>Bachtel-Forest</td>\n",
       "      <td>1</td>\n",
       "      <td>2020-01-02</td>\n",
       "      <td>0.121408</td>\n",
       "      <td>-1.092752e-07</td>\n",
       "      <td>0.213088</td>\n",
       "      <td>1.312338</td>\n",
       "      <td>-4.036302</td>\n",
       "      <td>60.923900</td>\n",
       "      <td>...</td>\n",
       "      <td>NaN</td>\n",
       "      <td>8.89016</td>\n",
       "      <td>47.29413</td>\n",
       "      <td>2.709787e+06</td>\n",
       "      <td>1.239153e+06</td>\n",
       "      <td>46975</td>\n",
       "      <td>2.710088e+06</td>\n",
       "      <td>1.239223e+06</td>\n",
       "      <td>882.140575</td>\n",
       "      <td>308.935980</td>\n",
       "    </tr>\n",
       "    <tr>\n",
       "      <th>2</th>\n",
       "      <td>3</td>\n",
       "      <td>Bachtel-Forest</td>\n",
       "      <td>1</td>\n",
       "      <td>2020-01-03</td>\n",
       "      <td>0.118271</td>\n",
       "      <td>1.285767e-01</td>\n",
       "      <td>2.009851</td>\n",
       "      <td>2.115951</td>\n",
       "      <td>-0.953911</td>\n",
       "      <td>55.859708</td>\n",
       "      <td>...</td>\n",
       "      <td>NaN</td>\n",
       "      <td>8.89016</td>\n",
       "      <td>47.29413</td>\n",
       "      <td>2.709787e+06</td>\n",
       "      <td>1.239153e+06</td>\n",
       "      <td>46975</td>\n",
       "      <td>2.710088e+06</td>\n",
       "      <td>1.239223e+06</td>\n",
       "      <td>882.140575</td>\n",
       "      <td>308.935980</td>\n",
       "    </tr>\n",
       "    <tr>\n",
       "      <th>3</th>\n",
       "      <td>4</td>\n",
       "      <td>Bachtel-Forest</td>\n",
       "      <td>1</td>\n",
       "      <td>2020-01-04</td>\n",
       "      <td>0.000000</td>\n",
       "      <td>9.927122e-02</td>\n",
       "      <td>1.573278</td>\n",
       "      <td>3.247398</td>\n",
       "      <td>0.721803</td>\n",
       "      <td>13.914832</td>\n",
       "      <td>...</td>\n",
       "      <td>NaN</td>\n",
       "      <td>8.89016</td>\n",
       "      <td>47.29413</td>\n",
       "      <td>2.709787e+06</td>\n",
       "      <td>1.239153e+06</td>\n",
       "      <td>46975</td>\n",
       "      <td>2.710088e+06</td>\n",
       "      <td>1.239223e+06</td>\n",
       "      <td>882.140575</td>\n",
       "      <td>308.935980</td>\n",
       "    </tr>\n",
       "    <tr>\n",
       "      <th>4</th>\n",
       "      <td>5</td>\n",
       "      <td>Bachtel-Forest</td>\n",
       "      <td>1</td>\n",
       "      <td>2020-01-05</td>\n",
       "      <td>0.000000</td>\n",
       "      <td>-1.986821e-08</td>\n",
       "      <td>-0.442240</td>\n",
       "      <td>2.159941</td>\n",
       "      <td>-4.094125</td>\n",
       "      <td>62.620516</td>\n",
       "      <td>...</td>\n",
       "      <td>NaN</td>\n",
       "      <td>8.89016</td>\n",
       "      <td>47.29413</td>\n",
       "      <td>2.709787e+06</td>\n",
       "      <td>1.239153e+06</td>\n",
       "      <td>46975</td>\n",
       "      <td>2.710088e+06</td>\n",
       "      <td>1.239223e+06</td>\n",
       "      <td>882.140575</td>\n",
       "      <td>308.935980</td>\n",
       "    </tr>\n",
       "    <tr>\n",
       "      <th>...</th>\n",
       "      <td>...</td>\n",
       "      <td>...</td>\n",
       "      <td>...</td>\n",
       "      <td>...</td>\n",
       "      <td>...</td>\n",
       "      <td>...</td>\n",
       "      <td>...</td>\n",
       "      <td>...</td>\n",
       "      <td>...</td>\n",
       "      <td>...</td>\n",
       "      <td>...</td>\n",
       "      <td>...</td>\n",
       "      <td>...</td>\n",
       "      <td>...</td>\n",
       "      <td>...</td>\n",
       "      <td>...</td>\n",
       "      <td>...</td>\n",
       "      <td>...</td>\n",
       "      <td>...</td>\n",
       "      <td>...</td>\n",
       "      <td>...</td>\n",
       "    </tr>\n",
       "    <tr>\n",
       "      <th>46027</th>\n",
       "      <td>46028</td>\n",
       "      <td>Sihlwald-Forest</td>\n",
       "      <td>42</td>\n",
       "      <td>2020-01-07</td>\n",
       "      <td>0.285428</td>\n",
       "      <td>2.295844e-02</td>\n",
       "      <td>1.842663</td>\n",
       "      <td>2.574209</td>\n",
       "      <td>-0.216778</td>\n",
       "      <td>37.274933</td>\n",
       "      <td>...</td>\n",
       "      <td>NaN</td>\n",
       "      <td>8.56111</td>\n",
       "      <td>47.25056</td>\n",
       "      <td>2.684971e+06</td>\n",
       "      <td>1.233901e+06</td>\n",
       "      <td>41819</td>\n",
       "      <td>2.684597e+06</td>\n",
       "      <td>1.233941e+06</td>\n",
       "      <td>722.265575</td>\n",
       "      <td>375.727303</td>\n",
       "    </tr>\n",
       "    <tr>\n",
       "      <th>46028</th>\n",
       "      <td>46029</td>\n",
       "      <td>Sihlwald-Forest</td>\n",
       "      <td>42</td>\n",
       "      <td>2020-01-08</td>\n",
       "      <td>0.258344</td>\n",
       "      <td>-6.457170e-07</td>\n",
       "      <td>3.056492</td>\n",
       "      <td>2.483577</td>\n",
       "      <td>-2.625516</td>\n",
       "      <td>47.995854</td>\n",
       "      <td>...</td>\n",
       "      <td>NaN</td>\n",
       "      <td>8.56111</td>\n",
       "      <td>47.25056</td>\n",
       "      <td>2.684971e+06</td>\n",
       "      <td>1.233901e+06</td>\n",
       "      <td>41819</td>\n",
       "      <td>2.684597e+06</td>\n",
       "      <td>1.233941e+06</td>\n",
       "      <td>722.265575</td>\n",
       "      <td>375.727303</td>\n",
       "    </tr>\n",
       "    <tr>\n",
       "      <th>46029</th>\n",
       "      <td>46030</td>\n",
       "      <td>Sihlwald-Forest</td>\n",
       "      <td>42</td>\n",
       "      <td>2020-01-09</td>\n",
       "      <td>0.509388</td>\n",
       "      <td>-1.182159e-06</td>\n",
       "      <td>4.842269</td>\n",
       "      <td>2.885992</td>\n",
       "      <td>-3.002886</td>\n",
       "      <td>54.513516</td>\n",
       "      <td>...</td>\n",
       "      <td>NaN</td>\n",
       "      <td>8.56111</td>\n",
       "      <td>47.25056</td>\n",
       "      <td>2.684971e+06</td>\n",
       "      <td>1.233901e+06</td>\n",
       "      <td>41819</td>\n",
       "      <td>2.684597e+06</td>\n",
       "      <td>1.233941e+06</td>\n",
       "      <td>722.265575</td>\n",
       "      <td>375.727303</td>\n",
       "    </tr>\n",
       "    <tr>\n",
       "      <th>46030</th>\n",
       "      <td>46031</td>\n",
       "      <td>Sihlwald-Forest</td>\n",
       "      <td>42</td>\n",
       "      <td>2020-01-10</td>\n",
       "      <td>0.603231</td>\n",
       "      <td>3.270944e-03</td>\n",
       "      <td>4.031820</td>\n",
       "      <td>3.103367</td>\n",
       "      <td>0.587544</td>\n",
       "      <td>39.948842</td>\n",
       "      <td>...</td>\n",
       "      <td>NaN</td>\n",
       "      <td>8.56111</td>\n",
       "      <td>47.25056</td>\n",
       "      <td>2.684971e+06</td>\n",
       "      <td>1.233901e+06</td>\n",
       "      <td>41819</td>\n",
       "      <td>2.684597e+06</td>\n",
       "      <td>1.233941e+06</td>\n",
       "      <td>722.265575</td>\n",
       "      <td>375.727303</td>\n",
       "    </tr>\n",
       "    <tr>\n",
       "      <th>46031</th>\n",
       "      <td>46032</td>\n",
       "      <td>Sihlwald-Forest</td>\n",
       "      <td>42</td>\n",
       "      <td>2020-01-11</td>\n",
       "      <td>0.288677</td>\n",
       "      <td>6.810169e-04</td>\n",
       "      <td>2.767411</td>\n",
       "      <td>1.552624</td>\n",
       "      <td>1.722186</td>\n",
       "      <td>46.982219</td>\n",
       "      <td>...</td>\n",
       "      <td>NaN</td>\n",
       "      <td>8.56111</td>\n",
       "      <td>47.25056</td>\n",
       "      <td>2.684971e+06</td>\n",
       "      <td>1.233901e+06</td>\n",
       "      <td>41819</td>\n",
       "      <td>2.684597e+06</td>\n",
       "      <td>1.233941e+06</td>\n",
       "      <td>722.265575</td>\n",
       "      <td>375.727303</td>\n",
       "    </tr>\n",
       "  </tbody>\n",
       "</table>\n",
       "<p>43840 rows × 45 columns</p>\n",
       "</div>"
      ],
      "text/plain": [
       "       Unnamed: 0             site  tree.id          ts       twd  \\\n",
       "0               1   Bachtel-Forest        1  2020-01-01  0.000000   \n",
       "1               2   Bachtel-Forest        1  2020-01-02  0.121408   \n",
       "2               3   Bachtel-Forest        1  2020-01-03  0.118271   \n",
       "3               4   Bachtel-Forest        1  2020-01-04  0.000000   \n",
       "4               5   Bachtel-Forest        1  2020-01-05  0.000000   \n",
       "...           ...              ...      ...         ...       ...   \n",
       "46027       46028  Sihlwald-Forest       42  2020-01-07  0.285428   \n",
       "46028       46029  Sihlwald-Forest       42  2020-01-08  0.258344   \n",
       "46029       46030  Sihlwald-Forest       42  2020-01-09  0.509388   \n",
       "46030       46031  Sihlwald-Forest       42  2020-01-10  0.603231   \n",
       "46031       46032  Sihlwald-Forest       42  2020-01-11  0.288677   \n",
       "\n",
       "                 pr        at        ws        dp         sr  ...  \\\n",
       "0     -4.967054e-09  0.684757  1.197186 -3.640214  62.291590  ...   \n",
       "1     -1.092752e-07  0.213088  1.312338 -4.036302  60.923900  ...   \n",
       "2      1.285767e-01  2.009851  2.115951 -0.953911  55.859708  ...   \n",
       "3      9.927122e-02  1.573278  3.247398  0.721803  13.914832  ...   \n",
       "4     -1.986821e-08 -0.442240  2.159941 -4.094125  62.620516  ...   \n",
       "...             ...       ...       ...       ...        ...  ...   \n",
       "46027  2.295844e-02  1.842663  2.574209 -0.216778  37.274933  ...   \n",
       "46028 -6.457170e-07  3.056492  2.483577 -2.625516  47.995854  ...   \n",
       "46029 -1.182159e-06  4.842269  2.885992 -3.002886  54.513516  ...   \n",
       "46030  3.270944e-03  4.031820  3.103367  0.587544  39.948842  ...   \n",
       "46031  6.810169e-04  2.767411  1.552624  1.722186  46.982219  ...   \n",
       "\n",
       "       day.of.year_rolling30  site_longitude site_latitude  site_easting  \\\n",
       "0                        NaN         8.89016      47.29413  2.709787e+06   \n",
       "1                        NaN         8.89016      47.29413  2.709787e+06   \n",
       "2                        NaN         8.89016      47.29413  2.709787e+06   \n",
       "3                        NaN         8.89016      47.29413  2.709787e+06   \n",
       "4                        NaN         8.89016      47.29413  2.709787e+06   \n",
       "...                      ...             ...           ...           ...   \n",
       "46027                    NaN         8.56111      47.25056  2.684971e+06   \n",
       "46028                    NaN         8.56111      47.25056  2.684971e+06   \n",
       "46029                    NaN         8.56111      47.25056  2.684971e+06   \n",
       "46030                    NaN         8.56111      47.25056  2.684971e+06   \n",
       "46031                    NaN         8.56111      47.25056  2.684971e+06   \n",
       "\n",
       "       site_northing  mch_ind_closest   mch_easting  mch_northing  \\\n",
       "0       1.239153e+06            46975  2.710088e+06  1.239223e+06   \n",
       "1       1.239153e+06            46975  2.710088e+06  1.239223e+06   \n",
       "2       1.239153e+06            46975  2.710088e+06  1.239223e+06   \n",
       "3       1.239153e+06            46975  2.710088e+06  1.239223e+06   \n",
       "4       1.239153e+06            46975  2.710088e+06  1.239223e+06   \n",
       "...              ...              ...           ...           ...   \n",
       "46027   1.233901e+06            41819  2.684597e+06  1.233941e+06   \n",
       "46028   1.233901e+06            41819  2.684597e+06  1.233941e+06   \n",
       "46029   1.233901e+06            41819  2.684597e+06  1.233941e+06   \n",
       "46030   1.233901e+06            41819  2.684597e+06  1.233941e+06   \n",
       "46031   1.233901e+06            41819  2.684597e+06  1.233941e+06   \n",
       "\n",
       "       mch_elevation  mch_site_eucldist  \n",
       "0         882.140575         308.935980  \n",
       "1         882.140575         308.935980  \n",
       "2         882.140575         308.935980  \n",
       "3         882.140575         308.935980  \n",
       "4         882.140575         308.935980  \n",
       "...              ...                ...  \n",
       "46027     722.265575         375.727303  \n",
       "46028     722.265575         375.727303  \n",
       "46029     722.265575         375.727303  \n",
       "46030     722.265575         375.727303  \n",
       "46031     722.265575         375.727303  \n",
       "\n",
       "[43840 rows x 45 columns]"
      ]
     },
     "execution_count": 4,
     "metadata": {},
     "output_type": "execute_result"
    }
   ],
   "source": [
    "df_ts_series"
   ]
  },
  {
   "cell_type": "code",
   "execution_count": 5,
   "id": "e3be3fdd",
   "metadata": {},
   "outputs": [
    {
     "data": {
      "text/plain": [
       "Index(['Unnamed: 0', 'site', 'tree.id', 'ts', 'twd', 'pr', 'at', 'ws', 'dp',\n",
       "       'sr', 'lr', 'series', 'species', 'year', 'diff.ts', 'diff.days',\n",
       "       'cum.time.days', 'day.of.year', 'month', 'week', 'twd_rolling7',\n",
       "       'pr_rolling7', 'at_rolling7', 'ws_rolling7', 'dp_rolling7',\n",
       "       'sr_rolling7', 'lr_rolling7', 'day.of.year_rolling7', 'twd_rolling30',\n",
       "       'pr_rolling30', 'at_rolling30', 'ws_rolling30', 'dp_rolling30',\n",
       "       'sr_rolling30', 'lr_rolling30', 'day.of.year_rolling30',\n",
       "       'site_longitude', 'site_latitude', 'site_easting', 'site_northing',\n",
       "       'mch_ind_closest', 'mch_easting', 'mch_northing', 'mch_elevation',\n",
       "       'mch_site_eucldist'],\n",
       "      dtype='object')"
      ]
     },
     "execution_count": 5,
     "metadata": {},
     "output_type": "execute_result"
    }
   ],
   "source": [
    "df_ts_series.columns"
   ]
  },
  {
   "cell_type": "code",
   "execution_count": 6,
   "id": "190f9a3e",
   "metadata": {},
   "outputs": [],
   "source": [
    "#df_ts_series = pd.get_dummies(df_ts_series, columns=['year', 'species'])"
   ]
  },
  {
   "cell_type": "code",
   "execution_count": null,
   "id": "323e5ac7",
   "metadata": {},
   "outputs": [],
   "source": []
  },
  {
   "cell_type": "code",
   "execution_count": 7,
   "id": "6c871412",
   "metadata": {},
   "outputs": [
    {
     "name": "stdout",
     "output_type": "stream",
     "text": [
      "Index(['Unnamed: 0', 'site', 'tree.id', 'ts', 'twd', 'pr', 'at', 'ws', 'dp',\n",
      "       'sr', 'lr', 'series', 'species', 'year', 'diff.ts', 'diff.days',\n",
      "       'cum.time.days', 'day.of.year', 'month', 'week', 'twd_rolling7',\n",
      "       'pr_rolling7', 'at_rolling7', 'ws_rolling7', 'dp_rolling7',\n",
      "       'sr_rolling7', 'lr_rolling7', 'day.of.year_rolling7', 'twd_rolling30',\n",
      "       'pr_rolling30', 'at_rolling30', 'ws_rolling30', 'dp_rolling30',\n",
      "       'sr_rolling30', 'lr_rolling30', 'day.of.year_rolling30',\n",
      "       'site_longitude', 'site_latitude', 'site_easting', 'site_northing',\n",
      "       'mch_ind_closest', 'mch_easting', 'mch_northing', 'mch_elevation',\n",
      "       'mch_site_eucldist'],\n",
      "      dtype='object')\n",
      "29       0.565573\n",
      "30       0.565573\n",
      "31       0.561526\n",
      "32       0.557584\n",
      "33       0.557584\n",
      "           ...   \n",
      "46019    0.099176\n",
      "46020    0.093326\n",
      "46021    0.101662\n",
      "46022    0.105229\n",
      "46023    0.108795\n",
      "Name: twd_rolling30, Length: 42680, dtype: float64\n"
     ]
    }
   ],
   "source": [
    "type(df_ts_series)\n",
    "print(df_ts_series.columns)\n",
    "df_ts_series = df_ts_series.dropna(subset=['twd_rolling30'])\n",
    "print(df_ts_series['twd_rolling30'])"
   ]
  },
  {
   "cell_type": "code",
   "execution_count": 8,
   "id": "35a83e64",
   "metadata": {},
   "outputs": [
    {
     "name": "stderr",
     "output_type": "stream",
     "text": [
      "C:\\Users\\salom\\AppData\\Local\\Temp\\ipykernel_25728\\595148286.py:1: SettingWithCopyWarning: \n",
      "A value is trying to be set on a copy of a slice from a DataFrame.\n",
      "Try using .loc[row_indexer,col_indexer] = value instead\n",
      "\n",
      "See the caveats in the documentation: https://pandas.pydata.org/pandas-docs/stable/user_guide/indexing.html#returning-a-view-versus-a-copy\n",
      "  df_ts_series['site'] = df_ts_series['site'].astype(str)\n",
      "C:\\Users\\salom\\AppData\\Local\\Temp\\ipykernel_25728\\595148286.py:2: SettingWithCopyWarning: \n",
      "A value is trying to be set on a copy of a slice from a DataFrame.\n",
      "Try using .loc[row_indexer,col_indexer] = value instead\n",
      "\n",
      "See the caveats in the documentation: https://pandas.pydata.org/pandas-docs/stable/user_guide/indexing.html#returning-a-view-versus-a-copy\n",
      "  df_ts_series['year'] = df_ts_series['year'].astype(str)\n",
      "C:\\Users\\salom\\AppData\\Local\\Temp\\ipykernel_25728\\595148286.py:3: SettingWithCopyWarning: \n",
      "A value is trying to be set on a copy of a slice from a DataFrame.\n",
      "Try using .loc[row_indexer,col_indexer] = value instead\n",
      "\n",
      "See the caveats in the documentation: https://pandas.pydata.org/pandas-docs/stable/user_guide/indexing.html#returning-a-view-versus-a-copy\n",
      "  df_ts_series['species'] = df_ts_series['species'].astype(str)\n",
      "C:\\Users\\salom\\AppData\\Local\\Temp\\ipykernel_25728\\595148286.py:8: SettingWithCopyWarning: \n",
      "A value is trying to be set on a copy of a slice from a DataFrame.\n",
      "Try using .loc[row_indexer,col_indexer] = value instead\n",
      "\n",
      "See the caveats in the documentation: https://pandas.pydata.org/pandas-docs/stable/user_guide/indexing.html#returning-a-view-versus-a-copy\n",
      "  df_ts_series[col + '_enc'] = le.fit_transform(df_ts_series[col])\n",
      "C:\\Users\\salom\\AppData\\Local\\Temp\\ipykernel_25728\\595148286.py:8: SettingWithCopyWarning: \n",
      "A value is trying to be set on a copy of a slice from a DataFrame.\n",
      "Try using .loc[row_indexer,col_indexer] = value instead\n",
      "\n",
      "See the caveats in the documentation: https://pandas.pydata.org/pandas-docs/stable/user_guide/indexing.html#returning-a-view-versus-a-copy\n",
      "  df_ts_series[col + '_enc'] = le.fit_transform(df_ts_series[col])\n",
      "C:\\Users\\salom\\AppData\\Local\\Temp\\ipykernel_25728\\595148286.py:8: SettingWithCopyWarning: \n",
      "A value is trying to be set on a copy of a slice from a DataFrame.\n",
      "Try using .loc[row_indexer,col_indexer] = value instead\n",
      "\n",
      "See the caveats in the documentation: https://pandas.pydata.org/pandas-docs/stable/user_guide/indexing.html#returning-a-view-versus-a-copy\n",
      "  df_ts_series[col + '_enc'] = le.fit_transform(df_ts_series[col])\n"
     ]
    }
   ],
   "source": [
    "df_ts_series['site'] = df_ts_series['site'].astype(str)\n",
    "df_ts_series['year'] = df_ts_series['year'].astype(str)\n",
    "df_ts_series['species'] = df_ts_series['species'].astype(str)\n",
    "\n",
    "encoders = {}\n",
    "for col in ['site', 'species', 'year']:\n",
    "    le = LabelEncoder()\n",
    "    df_ts_series[col + '_enc'] = le.fit_transform(df_ts_series[col])\n",
    "    encoders[col] = le"
   ]
  },
  {
   "cell_type": "code",
   "execution_count": 9,
   "id": "22e40ae2",
   "metadata": {},
   "outputs": [
    {
     "name": "stdout",
     "output_type": "stream",
     "text": [
      "Index(['Unnamed: 0', 'site', 'tree.id', 'ts', 'twd', 'pr', 'at', 'ws', 'dp',\n",
      "       'sr', 'lr', 'series', 'species', 'year', 'diff.ts', 'diff.days',\n",
      "       'cum.time.days', 'day.of.year', 'month', 'week', 'twd_rolling7',\n",
      "       'pr_rolling7', 'at_rolling7', 'ws_rolling7', 'dp_rolling7',\n",
      "       'sr_rolling7', 'lr_rolling7', 'day.of.year_rolling7', 'twd_rolling30',\n",
      "       'pr_rolling30', 'at_rolling30', 'ws_rolling30', 'dp_rolling30',\n",
      "       'sr_rolling30', 'lr_rolling30', 'day.of.year_rolling30',\n",
      "       'site_longitude', 'site_latitude', 'site_easting', 'site_northing',\n",
      "       'mch_ind_closest', 'mch_easting', 'mch_northing', 'mch_elevation',\n",
      "       'mch_site_eucldist', 'site_enc', 'species_enc', 'year_enc'],\n",
      "      dtype='object')\n",
      "29       882.140575\n",
      "30       882.140575\n",
      "31       882.140575\n",
      "32       882.140575\n",
      "33       882.140575\n",
      "            ...    \n",
      "46019    722.265575\n",
      "46020    722.265575\n",
      "46021    722.265575\n",
      "46022    722.265575\n",
      "46023    722.265575\n",
      "Name: mch_elevation, Length: 42680, dtype: float64\n",
      "29        Bachtel-Forest\n",
      "30        Bachtel-Forest\n",
      "31        Bachtel-Forest\n",
      "32        Bachtel-Forest\n",
      "33        Bachtel-Forest\n",
      "              ...       \n",
      "46019    Sihlwald-Forest\n",
      "46020    Sihlwald-Forest\n",
      "46021    Sihlwald-Forest\n",
      "46022    Sihlwald-Forest\n",
      "46023    Sihlwald-Forest\n",
      "Name: site, Length: 42680, dtype: object\n",
      "29        0\n",
      "30        0\n",
      "31        0\n",
      "32        0\n",
      "33        0\n",
      "         ..\n",
      "46019    18\n",
      "46020    18\n",
      "46021    18\n",
      "46022    18\n",
      "46023    18\n",
      "Name: site_enc, Length: 42680, dtype: int64\n"
     ]
    }
   ],
   "source": [
    "print(df_ts_series.columns)\n",
    "df_ts_series[\"species_enc\"]\n",
    "# Assume you have these columns\n",
    "print(df_ts_series['mch_elevation'])\n",
    "print(df_ts_series['site'] )\n",
    "print(df_ts_series['site_enc'] )"
   ]
  },
  {
   "cell_type": "code",
   "execution_count": 10,
   "id": "d806655a",
   "metadata": {},
   "outputs": [],
   "source": [
    "dynamic_features = ['pr_rolling30', 'at_rolling30', 'ws_rolling30', 'dp_rolling30',\n",
    "       'sr_rolling30', 'lr_rolling30', 'year_enc']\n",
    "static_features = ['mch_elevation', 'site_enc', 'species_enc']  # static features\n",
    "features = dynamic_features \n",
    "target_column = \"twd_rolling30\""
   ]
  },
  {
   "cell_type": "code",
   "execution_count": 11,
   "id": "525d08e5",
   "metadata": {},
   "outputs": [],
   "source": [
    "SEQ_LENGTH = 100\n",
    "\n",
    "n_features = len(dynamic_features)  # your time series features\n",
    "static_input_dim = {\n",
    "    'site': df_ts_series['site_enc'].nunique(),\n",
    "    'species': df_ts_series['species_enc'].nunique()\n",
    "}\n",
    "\n",
    "# Inputs\n",
    "seq_input = Input(shape=(SEQ_LENGTH, n_features), name='seq_input')\n",
    "\n",
    "# Static inputs\n",
    "mch_input = Input(shape=(1,), name='mch_input')\n",
    "side_input = Input(shape=(1,), name='site')\n",
    "species_input = Input(shape=(1,), name='species')\n",
    "# Embeddings\n",
    "side_emb = Embedding(input_dim=static_input_dim['site'], output_dim=2)(side_input)\n",
    "species_emb = Embedding(input_dim=static_input_dim['species'], output_dim=4)(species_input)"
   ]
  },
  {
   "cell_type": "code",
   "execution_count": 12,
   "id": "24b4a7cf",
   "metadata": {},
   "outputs": [],
   "source": [
    "# --- Scale features ---\n",
    "scaler = MinMaxScaler()\n",
    "scaled_features = scaler.fit_transform(df_ts_series[features])\n",
    "\n",
    "scaled_df = pd.DataFrame(scaled_features, columns=dynamic_features)\n",
    "\n",
    "# Scale mch_elevation separately\n",
    "scaled_df['mch_elevation'] = MinMaxScaler().fit_transform(df_ts_series[['mch_elevation']])\n",
    "\n",
    "# Add target and identifiers\n",
    "scaled_df[target_column] = df_ts_series[target_column].values\n",
    "scaled_df['tree.id'] = df_ts_series['tree.id'].values\n",
    "scaled_df['ts'] = df_ts_series['ts'].values\n",
    "\n",
    "# Add unscaled categorical features\n",
    "scaled_df['site_enc'] = df_ts_series['site_enc'].values\n",
    "scaled_df['species_enc'] = df_ts_series['species_enc'].values\n",
    "\n",
    "# --- Define split index manually ---\n",
    "split_index = int(len(scaled_df) * 0.75)\n",
    "train_df = scaled_df[:split_index]\n",
    "test_df = scaled_df[split_index:]"
   ]
  },
  {
   "cell_type": "code",
   "execution_count": 13,
   "id": "f01fb0c7",
   "metadata": {},
   "outputs": [],
   "source": [
    "def grouped_sequence_generator(\n",
    "    df,\n",
    "    group_col,\n",
    "    time_col,\n",
    "    target_col,\n",
    "    features,\n",
    "    static_features,\n",
    "    seq_length,\n",
    "    batch_size,\n",
    "    include_meta=False\n",
    "):\n",
    "    \"\"\"\n",
    "    Generates batches of sequence data grouped by an identifier (e.g., tree ID).\n",
    "    \n",
    "    Parameters:\n",
    "    - df: DataFrame with all features and targets\n",
    "    - group_col: Column name to group by (e.g., 'tree.id')\n",
    "    - time_col: Column with timestamps (used for sorting)\n",
    "    - target_col: Column to predict\n",
    "    - features: List of dynamic (sequential) feature columns\n",
    "    - static_features: List of static feature columns (same across the sequence)\n",
    "    - seq_length: Number of time steps in each input sequence\n",
    "    - batch_size: Number of sequences per batch\n",
    "    - include_meta: If True, also returns tree IDs and timestamps\n",
    "\n",
    "    Returns:\n",
    "    - inputs_dict, targets[, tree_ids, timestamps]\n",
    "    \"\"\"\n",
    "\n",
    "    grouped = df.groupby(group_col)\n",
    "    groups = list(grouped.groups.keys())\n",
    "    i = 0\n",
    "\n",
    "    while True:\n",
    "        X_seq_batch, X_static_batch, y_batch = [], [], []\n",
    "        tree_ids, target_timestamps = [], []\n",
    "\n",
    "        while len(X_seq_batch) < batch_size:\n",
    "            if i >= len(groups):\n",
    "                i = 0  # Reset for infinite looping\n",
    "\n",
    "            group_df = grouped.get_group(groups[i]).sort_values(time_col)\n",
    "\n",
    "            if len(group_df) > seq_length:\n",
    "                for j in range(len(group_df) - seq_length):\n",
    "                    X_seq = group_df[features].iloc[j:j+seq_length].values\n",
    "                    y_target = group_df[target_col].iloc[j+seq_length]\n",
    "                    static_vals = group_df[static_features].iloc[j].values\n",
    "\n",
    "                    X_seq_batch.append(X_seq)\n",
    "                    X_static_batch.append(static_vals)\n",
    "                    y_batch.append(y_target)\n",
    "\n",
    "                    if include_meta:\n",
    "                        tree_ids.append(group_df[group_col].iloc[j])\n",
    "                        target_timestamps.append(group_df[time_col].iloc[j + seq_length])\n",
    "\n",
    "                    if len(X_seq_batch) == batch_size:\n",
    "                        break\n",
    "            i += 1\n",
    "\n",
    "        static_array = np.array(X_static_batch)\n",
    "\n",
    "        inputs_dict = {\n",
    "            'seq_input': np.array(X_seq_batch).astype(np.float32),\n",
    "            'mch_input': static_array[:, 0].reshape(-1, 1).astype(np.float32),\n",
    "            'site': static_array[:, 1].reshape(-1, 1).astype(np.int32),\n",
    "            'species': static_array[:, 2].reshape(-1, 1).astype(np.int32),\n",
    "        }\n",
    "\n",
    "        if include_meta:\n",
    "            yield (\n",
    "                inputs_dict,\n",
    "                np.array(y_batch).astype(np.float32),\n",
    "                np.array(tree_ids),\n",
    "                np.array(target_timestamps)\n",
    "            )\n",
    "        else:\n",
    "            yield (\n",
    "                inputs_dict,\n",
    "                np.array(y_batch).astype(np.float32)\n",
    "            )\n"
   ]
  },
  {
   "cell_type": "code",
   "execution_count": 14,
   "id": "4db0e88e",
   "metadata": {},
   "outputs": [
    {
     "data": {
      "text/plain": [
       "Index(['Unnamed: 0', 'site', 'tree.id', 'ts', 'twd', 'pr', 'at', 'ws', 'dp',\n",
       "       'sr', 'lr', 'series', 'species', 'year', 'diff.ts', 'diff.days',\n",
       "       'cum.time.days', 'day.of.year', 'month', 'week', 'twd_rolling7',\n",
       "       'pr_rolling7', 'at_rolling7', 'ws_rolling7', 'dp_rolling7',\n",
       "       'sr_rolling7', 'lr_rolling7', 'day.of.year_rolling7', 'twd_rolling30',\n",
       "       'pr_rolling30', 'at_rolling30', 'ws_rolling30', 'dp_rolling30',\n",
       "       'sr_rolling30', 'lr_rolling30', 'day.of.year_rolling30',\n",
       "       'site_longitude', 'site_latitude', 'site_easting', 'site_northing',\n",
       "       'mch_ind_closest', 'mch_easting', 'mch_northing', 'mch_elevation',\n",
       "       'mch_site_eucldist', 'site_enc', 'species_enc', 'year_enc'],\n",
       "      dtype='object')"
      ]
     },
     "execution_count": 14,
     "metadata": {},
     "output_type": "execute_result"
    }
   ],
   "source": [
    "df_ts_series.columns\n"
   ]
  },
  {
   "cell_type": "code",
   "execution_count": 15,
   "id": "1524fa5b",
   "metadata": {},
   "outputs": [],
   "source": [
    "# Flatten and concatenate static embeddings\n",
    "static_concat = Concatenate()([\n",
    "    Flatten()(species_emb),\n",
    "    Flatten()(side_emb),\n",
    "    mch_input\n",
    "])\n",
    "\n",
    "# LSTM on sequence\n",
    "x = LSTM(64)(seq_input)\n",
    "\n",
    "# Combine sequence and static embeddings\n",
    "combined = Concatenate()([x, static_concat])\n",
    "output = Dense(1)(combined)\n"
   ]
  },
  {
   "cell_type": "code",
   "execution_count": null,
   "id": "30c6442e",
   "metadata": {},
   "outputs": [],
   "source": []
  },
  {
   "cell_type": "code",
   "execution_count": 16,
   "id": "7e2e01e7",
   "metadata": {},
   "outputs": [
    {
     "data": {
      "text/html": [
       "<pre style=\"white-space:pre;overflow-x:auto;line-height:normal;font-family:Menlo,'DejaVu Sans Mono',consolas,'Courier New',monospace\"><span style=\"font-weight: bold\">Model: \"functional\"</span>\n",
       "</pre>\n"
      ],
      "text/plain": [
       "\u001b[1mModel: \"functional\"\u001b[0m\n"
      ]
     },
     "metadata": {},
     "output_type": "display_data"
    },
    {
     "data": {
      "text/html": [
       "<pre style=\"white-space:pre;overflow-x:auto;line-height:normal;font-family:Menlo,'DejaVu Sans Mono',consolas,'Courier New',monospace\">┏━━━━━━━━━━━━━━━━━━━━━┳━━━━━━━━━━━━━━━━━━━┳━━━━━━━━━━━━┳━━━━━━━━━━━━━━━━━━━┓\n",
       "┃<span style=\"font-weight: bold\"> Layer (type)        </span>┃<span style=\"font-weight: bold\"> Output Shape      </span>┃<span style=\"font-weight: bold\">    Param # </span>┃<span style=\"font-weight: bold\"> Connected to      </span>┃\n",
       "┡━━━━━━━━━━━━━━━━━━━━━╇━━━━━━━━━━━━━━━━━━━╇━━━━━━━━━━━━╇━━━━━━━━━━━━━━━━━━━┩\n",
       "│ species             │ (<span style=\"color: #00d7ff; text-decoration-color: #00d7ff\">None</span>, <span style=\"color: #00af00; text-decoration-color: #00af00\">1</span>)         │          <span style=\"color: #00af00; text-decoration-color: #00af00\">0</span> │ -                 │\n",
       "│ (<span style=\"color: #0087ff; text-decoration-color: #0087ff\">InputLayer</span>)        │                   │            │                   │\n",
       "├─────────────────────┼───────────────────┼────────────┼───────────────────┤\n",
       "│ site (<span style=\"color: #0087ff; text-decoration-color: #0087ff\">InputLayer</span>)   │ (<span style=\"color: #00d7ff; text-decoration-color: #00d7ff\">None</span>, <span style=\"color: #00af00; text-decoration-color: #00af00\">1</span>)         │          <span style=\"color: #00af00; text-decoration-color: #00af00\">0</span> │ -                 │\n",
       "├─────────────────────┼───────────────────┼────────────┼───────────────────┤\n",
       "│ embedding_1         │ (<span style=\"color: #00d7ff; text-decoration-color: #00d7ff\">None</span>, <span style=\"color: #00af00; text-decoration-color: #00af00\">1</span>, <span style=\"color: #00af00; text-decoration-color: #00af00\">4</span>)      │         <span style=\"color: #00af00; text-decoration-color: #00af00\">24</span> │ species[<span style=\"color: #00af00; text-decoration-color: #00af00\">0</span>][<span style=\"color: #00af00; text-decoration-color: #00af00\">0</span>]     │\n",
       "│ (<span style=\"color: #0087ff; text-decoration-color: #0087ff\">Embedding</span>)         │                   │            │                   │\n",
       "├─────────────────────┼───────────────────┼────────────┼───────────────────┤\n",
       "│ embedding           │ (<span style=\"color: #00d7ff; text-decoration-color: #00d7ff\">None</span>, <span style=\"color: #00af00; text-decoration-color: #00af00\">1</span>, <span style=\"color: #00af00; text-decoration-color: #00af00\">2</span>)      │         <span style=\"color: #00af00; text-decoration-color: #00af00\">38</span> │ site[<span style=\"color: #00af00; text-decoration-color: #00af00\">0</span>][<span style=\"color: #00af00; text-decoration-color: #00af00\">0</span>]        │\n",
       "│ (<span style=\"color: #0087ff; text-decoration-color: #0087ff\">Embedding</span>)         │                   │            │                   │\n",
       "├─────────────────────┼───────────────────┼────────────┼───────────────────┤\n",
       "│ seq_input           │ (<span style=\"color: #00d7ff; text-decoration-color: #00d7ff\">None</span>, <span style=\"color: #00af00; text-decoration-color: #00af00\">100</span>, <span style=\"color: #00af00; text-decoration-color: #00af00\">7</span>)    │          <span style=\"color: #00af00; text-decoration-color: #00af00\">0</span> │ -                 │\n",
       "│ (<span style=\"color: #0087ff; text-decoration-color: #0087ff\">InputLayer</span>)        │                   │            │                   │\n",
       "├─────────────────────┼───────────────────┼────────────┼───────────────────┤\n",
       "│ flatten (<span style=\"color: #0087ff; text-decoration-color: #0087ff\">Flatten</span>)   │ (<span style=\"color: #00d7ff; text-decoration-color: #00d7ff\">None</span>, <span style=\"color: #00af00; text-decoration-color: #00af00\">4</span>)         │          <span style=\"color: #00af00; text-decoration-color: #00af00\">0</span> │ embedding_1[<span style=\"color: #00af00; text-decoration-color: #00af00\">0</span>][<span style=\"color: #00af00; text-decoration-color: #00af00\">0</span>] │\n",
       "├─────────────────────┼───────────────────┼────────────┼───────────────────┤\n",
       "│ flatten_1 (<span style=\"color: #0087ff; text-decoration-color: #0087ff\">Flatten</span>) │ (<span style=\"color: #00d7ff; text-decoration-color: #00d7ff\">None</span>, <span style=\"color: #00af00; text-decoration-color: #00af00\">2</span>)         │          <span style=\"color: #00af00; text-decoration-color: #00af00\">0</span> │ embedding[<span style=\"color: #00af00; text-decoration-color: #00af00\">0</span>][<span style=\"color: #00af00; text-decoration-color: #00af00\">0</span>]   │\n",
       "├─────────────────────┼───────────────────┼────────────┼───────────────────┤\n",
       "│ mch_input           │ (<span style=\"color: #00d7ff; text-decoration-color: #00d7ff\">None</span>, <span style=\"color: #00af00; text-decoration-color: #00af00\">1</span>)         │          <span style=\"color: #00af00; text-decoration-color: #00af00\">0</span> │ -                 │\n",
       "│ (<span style=\"color: #0087ff; text-decoration-color: #0087ff\">InputLayer</span>)        │                   │            │                   │\n",
       "├─────────────────────┼───────────────────┼────────────┼───────────────────┤\n",
       "│ lstm (<span style=\"color: #0087ff; text-decoration-color: #0087ff\">LSTM</span>)         │ (<span style=\"color: #00d7ff; text-decoration-color: #00d7ff\">None</span>, <span style=\"color: #00af00; text-decoration-color: #00af00\">64</span>)        │     <span style=\"color: #00af00; text-decoration-color: #00af00\">18,432</span> │ seq_input[<span style=\"color: #00af00; text-decoration-color: #00af00\">0</span>][<span style=\"color: #00af00; text-decoration-color: #00af00\">0</span>]   │\n",
       "├─────────────────────┼───────────────────┼────────────┼───────────────────┤\n",
       "│ concatenate         │ (<span style=\"color: #00d7ff; text-decoration-color: #00d7ff\">None</span>, <span style=\"color: #00af00; text-decoration-color: #00af00\">7</span>)         │          <span style=\"color: #00af00; text-decoration-color: #00af00\">0</span> │ flatten[<span style=\"color: #00af00; text-decoration-color: #00af00\">0</span>][<span style=\"color: #00af00; text-decoration-color: #00af00\">0</span>],    │\n",
       "│ (<span style=\"color: #0087ff; text-decoration-color: #0087ff\">Concatenate</span>)       │                   │            │ flatten_1[<span style=\"color: #00af00; text-decoration-color: #00af00\">0</span>][<span style=\"color: #00af00; text-decoration-color: #00af00\">0</span>],  │\n",
       "│                     │                   │            │ mch_input[<span style=\"color: #00af00; text-decoration-color: #00af00\">0</span>][<span style=\"color: #00af00; text-decoration-color: #00af00\">0</span>]   │\n",
       "├─────────────────────┼───────────────────┼────────────┼───────────────────┤\n",
       "│ concatenate_1       │ (<span style=\"color: #00d7ff; text-decoration-color: #00d7ff\">None</span>, <span style=\"color: #00af00; text-decoration-color: #00af00\">71</span>)        │          <span style=\"color: #00af00; text-decoration-color: #00af00\">0</span> │ lstm[<span style=\"color: #00af00; text-decoration-color: #00af00\">0</span>][<span style=\"color: #00af00; text-decoration-color: #00af00\">0</span>],       │\n",
       "│ (<span style=\"color: #0087ff; text-decoration-color: #0087ff\">Concatenate</span>)       │                   │            │ concatenate[<span style=\"color: #00af00; text-decoration-color: #00af00\">0</span>][<span style=\"color: #00af00; text-decoration-color: #00af00\">0</span>] │\n",
       "├─────────────────────┼───────────────────┼────────────┼───────────────────┤\n",
       "│ dense (<span style=\"color: #0087ff; text-decoration-color: #0087ff\">Dense</span>)       │ (<span style=\"color: #00d7ff; text-decoration-color: #00d7ff\">None</span>, <span style=\"color: #00af00; text-decoration-color: #00af00\">1</span>)         │         <span style=\"color: #00af00; text-decoration-color: #00af00\">72</span> │ concatenate_1[<span style=\"color: #00af00; text-decoration-color: #00af00\">0</span>]… │\n",
       "└─────────────────────┴───────────────────┴────────────┴───────────────────┘\n",
       "</pre>\n"
      ],
      "text/plain": [
       "┏━━━━━━━━━━━━━━━━━━━━━┳━━━━━━━━━━━━━━━━━━━┳━━━━━━━━━━━━┳━━━━━━━━━━━━━━━━━━━┓\n",
       "┃\u001b[1m \u001b[0m\u001b[1mLayer (type)       \u001b[0m\u001b[1m \u001b[0m┃\u001b[1m \u001b[0m\u001b[1mOutput Shape     \u001b[0m\u001b[1m \u001b[0m┃\u001b[1m \u001b[0m\u001b[1m   Param #\u001b[0m\u001b[1m \u001b[0m┃\u001b[1m \u001b[0m\u001b[1mConnected to     \u001b[0m\u001b[1m \u001b[0m┃\n",
       "┡━━━━━━━━━━━━━━━━━━━━━╇━━━━━━━━━━━━━━━━━━━╇━━━━━━━━━━━━╇━━━━━━━━━━━━━━━━━━━┩\n",
       "│ species             │ (\u001b[38;5;45mNone\u001b[0m, \u001b[38;5;34m1\u001b[0m)         │          \u001b[38;5;34m0\u001b[0m │ -                 │\n",
       "│ (\u001b[38;5;33mInputLayer\u001b[0m)        │                   │            │                   │\n",
       "├─────────────────────┼───────────────────┼────────────┼───────────────────┤\n",
       "│ site (\u001b[38;5;33mInputLayer\u001b[0m)   │ (\u001b[38;5;45mNone\u001b[0m, \u001b[38;5;34m1\u001b[0m)         │          \u001b[38;5;34m0\u001b[0m │ -                 │\n",
       "├─────────────────────┼───────────────────┼────────────┼───────────────────┤\n",
       "│ embedding_1         │ (\u001b[38;5;45mNone\u001b[0m, \u001b[38;5;34m1\u001b[0m, \u001b[38;5;34m4\u001b[0m)      │         \u001b[38;5;34m24\u001b[0m │ species[\u001b[38;5;34m0\u001b[0m][\u001b[38;5;34m0\u001b[0m]     │\n",
       "│ (\u001b[38;5;33mEmbedding\u001b[0m)         │                   │            │                   │\n",
       "├─────────────────────┼───────────────────┼────────────┼───────────────────┤\n",
       "│ embedding           │ (\u001b[38;5;45mNone\u001b[0m, \u001b[38;5;34m1\u001b[0m, \u001b[38;5;34m2\u001b[0m)      │         \u001b[38;5;34m38\u001b[0m │ site[\u001b[38;5;34m0\u001b[0m][\u001b[38;5;34m0\u001b[0m]        │\n",
       "│ (\u001b[38;5;33mEmbedding\u001b[0m)         │                   │            │                   │\n",
       "├─────────────────────┼───────────────────┼────────────┼───────────────────┤\n",
       "│ seq_input           │ (\u001b[38;5;45mNone\u001b[0m, \u001b[38;5;34m100\u001b[0m, \u001b[38;5;34m7\u001b[0m)    │          \u001b[38;5;34m0\u001b[0m │ -                 │\n",
       "│ (\u001b[38;5;33mInputLayer\u001b[0m)        │                   │            │                   │\n",
       "├─────────────────────┼───────────────────┼────────────┼───────────────────┤\n",
       "│ flatten (\u001b[38;5;33mFlatten\u001b[0m)   │ (\u001b[38;5;45mNone\u001b[0m, \u001b[38;5;34m4\u001b[0m)         │          \u001b[38;5;34m0\u001b[0m │ embedding_1[\u001b[38;5;34m0\u001b[0m][\u001b[38;5;34m0\u001b[0m] │\n",
       "├─────────────────────┼───────────────────┼────────────┼───────────────────┤\n",
       "│ flatten_1 (\u001b[38;5;33mFlatten\u001b[0m) │ (\u001b[38;5;45mNone\u001b[0m, \u001b[38;5;34m2\u001b[0m)         │          \u001b[38;5;34m0\u001b[0m │ embedding[\u001b[38;5;34m0\u001b[0m][\u001b[38;5;34m0\u001b[0m]   │\n",
       "├─────────────────────┼───────────────────┼────────────┼───────────────────┤\n",
       "│ mch_input           │ (\u001b[38;5;45mNone\u001b[0m, \u001b[38;5;34m1\u001b[0m)         │          \u001b[38;5;34m0\u001b[0m │ -                 │\n",
       "│ (\u001b[38;5;33mInputLayer\u001b[0m)        │                   │            │                   │\n",
       "├─────────────────────┼───────────────────┼────────────┼───────────────────┤\n",
       "│ lstm (\u001b[38;5;33mLSTM\u001b[0m)         │ (\u001b[38;5;45mNone\u001b[0m, \u001b[38;5;34m64\u001b[0m)        │     \u001b[38;5;34m18,432\u001b[0m │ seq_input[\u001b[38;5;34m0\u001b[0m][\u001b[38;5;34m0\u001b[0m]   │\n",
       "├─────────────────────┼───────────────────┼────────────┼───────────────────┤\n",
       "│ concatenate         │ (\u001b[38;5;45mNone\u001b[0m, \u001b[38;5;34m7\u001b[0m)         │          \u001b[38;5;34m0\u001b[0m │ flatten[\u001b[38;5;34m0\u001b[0m][\u001b[38;5;34m0\u001b[0m],    │\n",
       "│ (\u001b[38;5;33mConcatenate\u001b[0m)       │                   │            │ flatten_1[\u001b[38;5;34m0\u001b[0m][\u001b[38;5;34m0\u001b[0m],  │\n",
       "│                     │                   │            │ mch_input[\u001b[38;5;34m0\u001b[0m][\u001b[38;5;34m0\u001b[0m]   │\n",
       "├─────────────────────┼───────────────────┼────────────┼───────────────────┤\n",
       "│ concatenate_1       │ (\u001b[38;5;45mNone\u001b[0m, \u001b[38;5;34m71\u001b[0m)        │          \u001b[38;5;34m0\u001b[0m │ lstm[\u001b[38;5;34m0\u001b[0m][\u001b[38;5;34m0\u001b[0m],       │\n",
       "│ (\u001b[38;5;33mConcatenate\u001b[0m)       │                   │            │ concatenate[\u001b[38;5;34m0\u001b[0m][\u001b[38;5;34m0\u001b[0m] │\n",
       "├─────────────────────┼───────────────────┼────────────┼───────────────────┤\n",
       "│ dense (\u001b[38;5;33mDense\u001b[0m)       │ (\u001b[38;5;45mNone\u001b[0m, \u001b[38;5;34m1\u001b[0m)         │         \u001b[38;5;34m72\u001b[0m │ concatenate_1[\u001b[38;5;34m0\u001b[0m]… │\n",
       "└─────────────────────┴───────────────────┴────────────┴───────────────────┘\n"
      ]
     },
     "metadata": {},
     "output_type": "display_data"
    },
    {
     "data": {
      "text/html": [
       "<pre style=\"white-space:pre;overflow-x:auto;line-height:normal;font-family:Menlo,'DejaVu Sans Mono',consolas,'Courier New',monospace\"><span style=\"font-weight: bold\"> Total params: </span><span style=\"color: #00af00; text-decoration-color: #00af00\">18,566</span> (72.52 KB)\n",
       "</pre>\n"
      ],
      "text/plain": [
       "\u001b[1m Total params: \u001b[0m\u001b[38;5;34m18,566\u001b[0m (72.52 KB)\n"
      ]
     },
     "metadata": {},
     "output_type": "display_data"
    },
    {
     "data": {
      "text/html": [
       "<pre style=\"white-space:pre;overflow-x:auto;line-height:normal;font-family:Menlo,'DejaVu Sans Mono',consolas,'Courier New',monospace\"><span style=\"font-weight: bold\"> Trainable params: </span><span style=\"color: #00af00; text-decoration-color: #00af00\">18,566</span> (72.52 KB)\n",
       "</pre>\n"
      ],
      "text/plain": [
       "\u001b[1m Trainable params: \u001b[0m\u001b[38;5;34m18,566\u001b[0m (72.52 KB)\n"
      ]
     },
     "metadata": {},
     "output_type": "display_data"
    },
    {
     "data": {
      "text/html": [
       "<pre style=\"white-space:pre;overflow-x:auto;line-height:normal;font-family:Menlo,'DejaVu Sans Mono',consolas,'Courier New',monospace\"><span style=\"font-weight: bold\"> Non-trainable params: </span><span style=\"color: #00af00; text-decoration-color: #00af00\">0</span> (0.00 B)\n",
       "</pre>\n"
      ],
      "text/plain": [
       "\u001b[1m Non-trainable params: \u001b[0m\u001b[38;5;34m0\u001b[0m (0.00 B)\n"
      ]
     },
     "metadata": {},
     "output_type": "display_data"
    }
   ],
   "source": [
    "model = Model(\n",
    "    inputs=[seq_input, mch_input, side_input, species_input],\n",
    "    outputs=output\n",
    ")\n",
    "model.compile(optimizer='adam', loss='mse')\n",
    "model.summary()"
   ]
  },
  {
   "cell_type": "code",
   "execution_count": 17,
   "id": "ca201466",
   "metadata": {},
   "outputs": [
    {
     "name": "stdout",
     "output_type": "stream",
     "text": [
      "twd_rolling30\n",
      "['pr_rolling30', 'at_rolling30', 'ws_rolling30', 'dp_rolling30', 'sr_rolling30', 'lr_rolling30', 'year_enc']\n",
      "['mch_elevation', 'site_enc', 'species_enc']\n"
     ]
    }
   ],
   "source": [
    "print(target_column)\n",
    "print(features)\n",
    "print(static_features)\n",
    "\n",
    "BATCH_SIZE = 32\n",
    "\n",
    "train_gen = grouped_sequence_generator(\n",
    "    df=train_df,\n",
    "    group_col='tree.id',\n",
    "    time_col='ts', \n",
    "    target_col=target_column,\n",
    "    features=features,\n",
    "    static_features=static_features,\n",
    "    seq_length=SEQ_LENGTH,\n",
    "    batch_size=BATCH_SIZE,\n",
    "    include_meta=False\n",
    ")\n"
   ]
  },
  {
   "cell_type": "code",
   "execution_count": 18,
   "id": "934723a6",
   "metadata": {},
   "outputs": [
    {
     "data": {
      "text/html": [
       "<div>\n",
       "<style scoped>\n",
       "    .dataframe tbody tr th:only-of-type {\n",
       "        vertical-align: middle;\n",
       "    }\n",
       "\n",
       "    .dataframe tbody tr th {\n",
       "        vertical-align: top;\n",
       "    }\n",
       "\n",
       "    .dataframe thead th {\n",
       "        text-align: right;\n",
       "    }\n",
       "</style>\n",
       "<table border=\"1\" class=\"dataframe\">\n",
       "  <thead>\n",
       "    <tr style=\"text-align: right;\">\n",
       "      <th></th>\n",
       "      <th>pr_rolling30</th>\n",
       "      <th>at_rolling30</th>\n",
       "      <th>ws_rolling30</th>\n",
       "      <th>dp_rolling30</th>\n",
       "      <th>sr_rolling30</th>\n",
       "      <th>lr_rolling30</th>\n",
       "      <th>year_enc</th>\n",
       "      <th>mch_elevation</th>\n",
       "      <th>twd_rolling30</th>\n",
       "      <th>tree.id</th>\n",
       "      <th>ts</th>\n",
       "      <th>site_enc</th>\n",
       "      <th>species_enc</th>\n",
       "    </tr>\n",
       "  </thead>\n",
       "  <tbody>\n",
       "    <tr>\n",
       "      <th>0</th>\n",
       "      <td>0.131371</td>\n",
       "      <td>0.289204</td>\n",
       "      <td>0.305649</td>\n",
       "      <td>0.344206</td>\n",
       "      <td>0.124088</td>\n",
       "      <td>0.306719</td>\n",
       "      <td>0.0</td>\n",
       "      <td>0.306349</td>\n",
       "      <td>0.565573</td>\n",
       "      <td>1</td>\n",
       "      <td>2020-01-30</td>\n",
       "      <td>0</td>\n",
       "      <td>2</td>\n",
       "    </tr>\n",
       "    <tr>\n",
       "      <th>1</th>\n",
       "      <td>0.137936</td>\n",
       "      <td>0.294173</td>\n",
       "      <td>0.311741</td>\n",
       "      <td>0.353200</td>\n",
       "      <td>0.119865</td>\n",
       "      <td>0.330733</td>\n",
       "      <td>0.0</td>\n",
       "      <td>0.306349</td>\n",
       "      <td>0.565573</td>\n",
       "      <td>1</td>\n",
       "      <td>2020-01-31</td>\n",
       "      <td>0</td>\n",
       "      <td>2</td>\n",
       "    </tr>\n",
       "    <tr>\n",
       "      <th>2</th>\n",
       "      <td>0.151161</td>\n",
       "      <td>0.300878</td>\n",
       "      <td>0.327172</td>\n",
       "      <td>0.362346</td>\n",
       "      <td>0.119026</td>\n",
       "      <td>0.350577</td>\n",
       "      <td>0.0</td>\n",
       "      <td>0.306349</td>\n",
       "      <td>0.561526</td>\n",
       "      <td>1</td>\n",
       "      <td>2020-02-01</td>\n",
       "      <td>0</td>\n",
       "      <td>2</td>\n",
       "    </tr>\n",
       "    <tr>\n",
       "      <th>3</th>\n",
       "      <td>0.176459</td>\n",
       "      <td>0.305918</td>\n",
       "      <td>0.343044</td>\n",
       "      <td>0.369234</td>\n",
       "      <td>0.113239</td>\n",
       "      <td>0.363218</td>\n",
       "      <td>0.0</td>\n",
       "      <td>0.306349</td>\n",
       "      <td>0.557584</td>\n",
       "      <td>1</td>\n",
       "      <td>2020-02-02</td>\n",
       "      <td>0</td>\n",
       "      <td>2</td>\n",
       "    </tr>\n",
       "    <tr>\n",
       "      <th>4</th>\n",
       "      <td>0.214425</td>\n",
       "      <td>0.312373</td>\n",
       "      <td>0.361469</td>\n",
       "      <td>0.373950</td>\n",
       "      <td>0.111845</td>\n",
       "      <td>0.368257</td>\n",
       "      <td>0.0</td>\n",
       "      <td>0.306349</td>\n",
       "      <td>0.557584</td>\n",
       "      <td>1</td>\n",
       "      <td>2020-02-03</td>\n",
       "      <td>0</td>\n",
       "      <td>2</td>\n",
       "    </tr>\n",
       "    <tr>\n",
       "      <th>...</th>\n",
       "      <td>...</td>\n",
       "      <td>...</td>\n",
       "      <td>...</td>\n",
       "      <td>...</td>\n",
       "      <td>...</td>\n",
       "      <td>...</td>\n",
       "      <td>...</td>\n",
       "      <td>...</td>\n",
       "      <td>...</td>\n",
       "      <td>...</td>\n",
       "      <td>...</td>\n",
       "      <td>...</td>\n",
       "      <td>...</td>\n",
       "    </tr>\n",
       "    <tr>\n",
       "      <th>42675</th>\n",
       "      <td>0.238348</td>\n",
       "      <td>0.277828</td>\n",
       "      <td>0.347257</td>\n",
       "      <td>0.452080</td>\n",
       "      <td>0.006478</td>\n",
       "      <td>0.569837</td>\n",
       "      <td>1.0</td>\n",
       "      <td>0.164128</td>\n",
       "      <td>0.099176</td>\n",
       "      <td>42</td>\n",
       "      <td>2022-12-27</td>\n",
       "      <td>18</td>\n",
       "      <td>2</td>\n",
       "    </tr>\n",
       "    <tr>\n",
       "      <th>42676</th>\n",
       "      <td>0.231367</td>\n",
       "      <td>0.275804</td>\n",
       "      <td>0.350377</td>\n",
       "      <td>0.449129</td>\n",
       "      <td>0.008201</td>\n",
       "      <td>0.556390</td>\n",
       "      <td>1.0</td>\n",
       "      <td>0.164128</td>\n",
       "      <td>0.093326</td>\n",
       "      <td>42</td>\n",
       "      <td>2022-12-28</td>\n",
       "      <td>18</td>\n",
       "      <td>2</td>\n",
       "    </tr>\n",
       "    <tr>\n",
       "      <th>42677</th>\n",
       "      <td>0.229730</td>\n",
       "      <td>0.278084</td>\n",
       "      <td>0.361288</td>\n",
       "      <td>0.446460</td>\n",
       "      <td>0.010712</td>\n",
       "      <td>0.553261</td>\n",
       "      <td>1.0</td>\n",
       "      <td>0.164128</td>\n",
       "      <td>0.101662</td>\n",
       "      <td>42</td>\n",
       "      <td>2022-12-29</td>\n",
       "      <td>18</td>\n",
       "      <td>2</td>\n",
       "    </tr>\n",
       "    <tr>\n",
       "      <th>42678</th>\n",
       "      <td>0.251497</td>\n",
       "      <td>0.280965</td>\n",
       "      <td>0.361358</td>\n",
       "      <td>0.448884</td>\n",
       "      <td>0.012788</td>\n",
       "      <td>0.551681</td>\n",
       "      <td>1.0</td>\n",
       "      <td>0.164128</td>\n",
       "      <td>0.105229</td>\n",
       "      <td>42</td>\n",
       "      <td>2022-12-30</td>\n",
       "      <td>18</td>\n",
       "      <td>2</td>\n",
       "    </tr>\n",
       "    <tr>\n",
       "      <th>42679</th>\n",
       "      <td>0.249614</td>\n",
       "      <td>0.291894</td>\n",
       "      <td>0.362930</td>\n",
       "      <td>0.455705</td>\n",
       "      <td>0.017089</td>\n",
       "      <td>0.550591</td>\n",
       "      <td>1.0</td>\n",
       "      <td>0.164128</td>\n",
       "      <td>0.108795</td>\n",
       "      <td>42</td>\n",
       "      <td>2022-12-31</td>\n",
       "      <td>18</td>\n",
       "      <td>2</td>\n",
       "    </tr>\n",
       "  </tbody>\n",
       "</table>\n",
       "<p>42680 rows × 13 columns</p>\n",
       "</div>"
      ],
      "text/plain": [
       "       pr_rolling30  at_rolling30  ws_rolling30  dp_rolling30  sr_rolling30  \\\n",
       "0          0.131371      0.289204      0.305649      0.344206      0.124088   \n",
       "1          0.137936      0.294173      0.311741      0.353200      0.119865   \n",
       "2          0.151161      0.300878      0.327172      0.362346      0.119026   \n",
       "3          0.176459      0.305918      0.343044      0.369234      0.113239   \n",
       "4          0.214425      0.312373      0.361469      0.373950      0.111845   \n",
       "...             ...           ...           ...           ...           ...   \n",
       "42675      0.238348      0.277828      0.347257      0.452080      0.006478   \n",
       "42676      0.231367      0.275804      0.350377      0.449129      0.008201   \n",
       "42677      0.229730      0.278084      0.361288      0.446460      0.010712   \n",
       "42678      0.251497      0.280965      0.361358      0.448884      0.012788   \n",
       "42679      0.249614      0.291894      0.362930      0.455705      0.017089   \n",
       "\n",
       "       lr_rolling30  year_enc  mch_elevation  twd_rolling30  tree.id  \\\n",
       "0          0.306719       0.0       0.306349       0.565573        1   \n",
       "1          0.330733       0.0       0.306349       0.565573        1   \n",
       "2          0.350577       0.0       0.306349       0.561526        1   \n",
       "3          0.363218       0.0       0.306349       0.557584        1   \n",
       "4          0.368257       0.0       0.306349       0.557584        1   \n",
       "...             ...       ...            ...            ...      ...   \n",
       "42675      0.569837       1.0       0.164128       0.099176       42   \n",
       "42676      0.556390       1.0       0.164128       0.093326       42   \n",
       "42677      0.553261       1.0       0.164128       0.101662       42   \n",
       "42678      0.551681       1.0       0.164128       0.105229       42   \n",
       "42679      0.550591       1.0       0.164128       0.108795       42   \n",
       "\n",
       "               ts  site_enc  species_enc  \n",
       "0      2020-01-30         0            2  \n",
       "1      2020-01-31         0            2  \n",
       "2      2020-02-01         0            2  \n",
       "3      2020-02-02         0            2  \n",
       "4      2020-02-03         0            2  \n",
       "...           ...       ...          ...  \n",
       "42675  2022-12-27        18            2  \n",
       "42676  2022-12-28        18            2  \n",
       "42677  2022-12-29        18            2  \n",
       "42678  2022-12-30        18            2  \n",
       "42679  2022-12-31        18            2  \n",
       "\n",
       "[42680 rows x 13 columns]"
      ]
     },
     "execution_count": 18,
     "metadata": {},
     "output_type": "execute_result"
    }
   ],
   "source": [
    "scaled_df\n"
   ]
  },
  {
   "cell_type": "code",
   "execution_count": 19,
   "id": "d6c45240",
   "metadata": {},
   "outputs": [
    {
     "data": {
      "text/plain": [
       "np.int64(1067)"
      ]
     },
     "execution_count": 19,
     "metadata": {},
     "output_type": "execute_result"
    }
   ],
   "source": [
    "df_ts_series.groupby('tree.id').size().min()"
   ]
  },
  {
   "cell_type": "code",
   "execution_count": 20,
   "id": "d6ea5601",
   "metadata": {},
   "outputs": [
    {
     "name": "stdout",
     "output_type": "stream",
     "text": [
      "Epoch 1/30\n",
      "\u001b[1m100/100\u001b[0m \u001b[32m━━━━━━━━━━━━━━━━━━━━\u001b[0m\u001b[37m\u001b[0m \u001b[1m3s\u001b[0m 19ms/step - loss: 0.6647\n",
      "Epoch 2/30\n",
      "\u001b[1m 10/100\u001b[0m \u001b[32m━━\u001b[0m\u001b[37m━━━━━━━━━━━━━━━━━━\u001b[0m \u001b[1m1s\u001b[0m 19ms/step - loss: 0.2519"
     ]
    },
    {
     "name": "stderr",
     "output_type": "stream",
     "text": [
      "C:\\Users\\salom\\AppData\\Local\\Packages\\PythonSoftwareFoundation.Python.3.11_qbz5n2kfra8p0\\LocalCache\\local-packages\\Python311\\site-packages\\keras\\src\\callbacks\\early_stopping.py:153: UserWarning: Early stopping conditioned on metric `val_loss` which is not available. Available metrics are: loss\n",
      "  current = self.get_monitor_value(logs)\n"
     ]
    },
    {
     "name": "stdout",
     "output_type": "stream",
     "text": [
      "\u001b[1m100/100\u001b[0m \u001b[32m━━━━━━━━━━━━━━━━━━━━\u001b[0m\u001b[37m\u001b[0m \u001b[1m2s\u001b[0m 19ms/step - loss: 0.3531\n",
      "Epoch 3/30\n",
      "\u001b[1m  9/100\u001b[0m \u001b[32m━\u001b[0m\u001b[37m━━━━━━━━━━━━━━━━━━━\u001b[0m \u001b[1m1s\u001b[0m 21ms/step - loss: 0.1002"
     ]
    },
    {
     "name": "stderr",
     "output_type": "stream",
     "text": [
      "C:\\Users\\salom\\AppData\\Local\\Packages\\PythonSoftwareFoundation.Python.3.11_qbz5n2kfra8p0\\LocalCache\\local-packages\\Python311\\site-packages\\keras\\src\\callbacks\\early_stopping.py:153: UserWarning: Early stopping conditioned on metric `val_loss` which is not available. Available metrics are: loss\n",
      "  current = self.get_monitor_value(logs)\n"
     ]
    },
    {
     "name": "stdout",
     "output_type": "stream",
     "text": [
      "\u001b[1m100/100\u001b[0m \u001b[32m━━━━━━━━━━━━━━━━━━━━\u001b[0m\u001b[37m\u001b[0m \u001b[1m2s\u001b[0m 20ms/step - loss: 0.3431\n",
      "Epoch 4/30\n",
      "\u001b[1m  7/100\u001b[0m \u001b[32m━\u001b[0m\u001b[37m━━━━━━━━━━━━━━━━━━━\u001b[0m \u001b[1m2s\u001b[0m 22ms/step - loss: 0.0271"
     ]
    },
    {
     "name": "stderr",
     "output_type": "stream",
     "text": [
      "C:\\Users\\salom\\AppData\\Local\\Packages\\PythonSoftwareFoundation.Python.3.11_qbz5n2kfra8p0\\LocalCache\\local-packages\\Python311\\site-packages\\keras\\src\\callbacks\\early_stopping.py:153: UserWarning: Early stopping conditioned on metric `val_loss` which is not available. Available metrics are: loss\n",
      "  current = self.get_monitor_value(logs)\n"
     ]
    },
    {
     "name": "stdout",
     "output_type": "stream",
     "text": [
      "\u001b[1m100/100\u001b[0m \u001b[32m━━━━━━━━━━━━━━━━━━━━\u001b[0m\u001b[37m\u001b[0m \u001b[1m2s\u001b[0m 21ms/step - loss: 0.4141\n",
      "Epoch 5/30\n",
      "\u001b[1m 10/100\u001b[0m \u001b[32m━━\u001b[0m\u001b[37m━━━━━━━━━━━━━━━━━━\u001b[0m \u001b[1m1s\u001b[0m 20ms/step - loss: 0.5368"
     ]
    },
    {
     "name": "stderr",
     "output_type": "stream",
     "text": [
      "C:\\Users\\salom\\AppData\\Local\\Packages\\PythonSoftwareFoundation.Python.3.11_qbz5n2kfra8p0\\LocalCache\\local-packages\\Python311\\site-packages\\keras\\src\\callbacks\\early_stopping.py:153: UserWarning: Early stopping conditioned on metric `val_loss` which is not available. Available metrics are: loss\n",
      "  current = self.get_monitor_value(logs)\n"
     ]
    },
    {
     "name": "stdout",
     "output_type": "stream",
     "text": [
      "\u001b[1m100/100\u001b[0m \u001b[32m━━━━━━━━━━━━━━━━━━━━\u001b[0m\u001b[37m\u001b[0m \u001b[1m2s\u001b[0m 20ms/step - loss: 0.3096\n",
      "Epoch 6/30\n",
      "\u001b[1m  7/100\u001b[0m \u001b[32m━\u001b[0m\u001b[37m━━━━━━━━━━━━━━━━━━━\u001b[0m \u001b[1m1s\u001b[0m 20ms/step - loss: 0.0639"
     ]
    },
    {
     "name": "stderr",
     "output_type": "stream",
     "text": [
      "C:\\Users\\salom\\AppData\\Local\\Packages\\PythonSoftwareFoundation.Python.3.11_qbz5n2kfra8p0\\LocalCache\\local-packages\\Python311\\site-packages\\keras\\src\\callbacks\\early_stopping.py:153: UserWarning: Early stopping conditioned on metric `val_loss` which is not available. Available metrics are: loss\n",
      "  current = self.get_monitor_value(logs)\n"
     ]
    },
    {
     "name": "stdout",
     "output_type": "stream",
     "text": [
      "\u001b[1m100/100\u001b[0m \u001b[32m━━━━━━━━━━━━━━━━━━━━\u001b[0m\u001b[37m\u001b[0m \u001b[1m2s\u001b[0m 21ms/step - loss: 0.2605\n",
      "Epoch 7/30\n",
      "\u001b[1m 10/100\u001b[0m \u001b[32m━━\u001b[0m\u001b[37m━━━━━━━━━━━━━━━━━━\u001b[0m \u001b[1m1s\u001b[0m 19ms/step - loss: 0.0744"
     ]
    },
    {
     "name": "stderr",
     "output_type": "stream",
     "text": [
      "C:\\Users\\salom\\AppData\\Local\\Packages\\PythonSoftwareFoundation.Python.3.11_qbz5n2kfra8p0\\LocalCache\\local-packages\\Python311\\site-packages\\keras\\src\\callbacks\\early_stopping.py:153: UserWarning: Early stopping conditioned on metric `val_loss` which is not available. Available metrics are: loss\n",
      "  current = self.get_monitor_value(logs)\n"
     ]
    },
    {
     "name": "stdout",
     "output_type": "stream",
     "text": [
      "\u001b[1m100/100\u001b[0m \u001b[32m━━━━━━━━━━━━━━━━━━━━\u001b[0m\u001b[37m\u001b[0m \u001b[1m2s\u001b[0m 21ms/step - loss: 0.3150\n",
      "Epoch 8/30\n",
      "\u001b[1m  5/100\u001b[0m \u001b[32m━\u001b[0m\u001b[37m━━━━━━━━━━━━━━━━━━━\u001b[0m \u001b[1m2s\u001b[0m 29ms/step - loss: 0.7772"
     ]
    },
    {
     "name": "stderr",
     "output_type": "stream",
     "text": [
      "C:\\Users\\salom\\AppData\\Local\\Packages\\PythonSoftwareFoundation.Python.3.11_qbz5n2kfra8p0\\LocalCache\\local-packages\\Python311\\site-packages\\keras\\src\\callbacks\\early_stopping.py:153: UserWarning: Early stopping conditioned on metric `val_loss` which is not available. Available metrics are: loss\n",
      "  current = self.get_monitor_value(logs)\n"
     ]
    },
    {
     "name": "stdout",
     "output_type": "stream",
     "text": [
      "\u001b[1m100/100\u001b[0m \u001b[32m━━━━━━━━━━━━━━━━━━━━\u001b[0m\u001b[37m\u001b[0m \u001b[1m3s\u001b[0m 29ms/step - loss: 0.3062\n",
      "Epoch 9/30\n",
      "\u001b[1m  5/100\u001b[0m \u001b[32m━\u001b[0m\u001b[37m━━━━━━━━━━━━━━━━━━━\u001b[0m \u001b[1m2s\u001b[0m 30ms/step - loss: 0.0396"
     ]
    },
    {
     "name": "stderr",
     "output_type": "stream",
     "text": [
      "C:\\Users\\salom\\AppData\\Local\\Packages\\PythonSoftwareFoundation.Python.3.11_qbz5n2kfra8p0\\LocalCache\\local-packages\\Python311\\site-packages\\keras\\src\\callbacks\\early_stopping.py:153: UserWarning: Early stopping conditioned on metric `val_loss` which is not available. Available metrics are: loss\n",
      "  current = self.get_monitor_value(logs)\n"
     ]
    },
    {
     "name": "stdout",
     "output_type": "stream",
     "text": [
      "\u001b[1m100/100\u001b[0m \u001b[32m━━━━━━━━━━━━━━━━━━━━\u001b[0m\u001b[37m\u001b[0m \u001b[1m3s\u001b[0m 28ms/step - loss: 0.2537\n",
      "Epoch 10/30\n",
      "\u001b[1m  7/100\u001b[0m \u001b[32m━\u001b[0m\u001b[37m━━━━━━━━━━━━━━━━━━━\u001b[0m \u001b[1m2s\u001b[0m 28ms/step - loss: 0.0320"
     ]
    },
    {
     "name": "stderr",
     "output_type": "stream",
     "text": [
      "C:\\Users\\salom\\AppData\\Local\\Packages\\PythonSoftwareFoundation.Python.3.11_qbz5n2kfra8p0\\LocalCache\\local-packages\\Python311\\site-packages\\keras\\src\\callbacks\\early_stopping.py:153: UserWarning: Early stopping conditioned on metric `val_loss` which is not available. Available metrics are: loss\n",
      "  current = self.get_monitor_value(logs)\n"
     ]
    },
    {
     "name": "stdout",
     "output_type": "stream",
     "text": [
      "\u001b[1m100/100\u001b[0m \u001b[32m━━━━━━━━━━━━━━━━━━━━\u001b[0m\u001b[37m\u001b[0m \u001b[1m3s\u001b[0m 27ms/step - loss: 0.3116\n",
      "Epoch 11/30\n",
      "\u001b[1m  7/100\u001b[0m \u001b[32m━\u001b[0m\u001b[37m━━━━━━━━━━━━━━━━━━━\u001b[0m \u001b[1m2s\u001b[0m 27ms/step - loss: 0.6885"
     ]
    },
    {
     "name": "stderr",
     "output_type": "stream",
     "text": [
      "C:\\Users\\salom\\AppData\\Local\\Packages\\PythonSoftwareFoundation.Python.3.11_qbz5n2kfra8p0\\LocalCache\\local-packages\\Python311\\site-packages\\keras\\src\\callbacks\\early_stopping.py:153: UserWarning: Early stopping conditioned on metric `val_loss` which is not available. Available metrics are: loss\n",
      "  current = self.get_monitor_value(logs)\n"
     ]
    },
    {
     "name": "stdout",
     "output_type": "stream",
     "text": [
      "\u001b[1m100/100\u001b[0m \u001b[32m━━━━━━━━━━━━━━━━━━━━\u001b[0m\u001b[37m\u001b[0m \u001b[1m3s\u001b[0m 28ms/step - loss: 0.3051\n",
      "Epoch 12/30\n",
      "\u001b[1m  5/100\u001b[0m \u001b[32m━\u001b[0m\u001b[37m━━━━━━━━━━━━━━━━━━━\u001b[0m \u001b[1m2s\u001b[0m 28ms/step - loss: 0.0394"
     ]
    },
    {
     "name": "stderr",
     "output_type": "stream",
     "text": [
      "C:\\Users\\salom\\AppData\\Local\\Packages\\PythonSoftwareFoundation.Python.3.11_qbz5n2kfra8p0\\LocalCache\\local-packages\\Python311\\site-packages\\keras\\src\\callbacks\\early_stopping.py:153: UserWarning: Early stopping conditioned on metric `val_loss` which is not available. Available metrics are: loss\n",
      "  current = self.get_monitor_value(logs)\n"
     ]
    },
    {
     "name": "stdout",
     "output_type": "stream",
     "text": [
      "\u001b[1m100/100\u001b[0m \u001b[32m━━━━━━━━━━━━━━━━━━━━\u001b[0m\u001b[37m\u001b[0m \u001b[1m3s\u001b[0m 27ms/step - loss: 0.2536\n",
      "Epoch 13/30\n",
      "\u001b[1m  5/100\u001b[0m \u001b[32m━\u001b[0m\u001b[37m━━━━━━━━━━━━━━━━━━━\u001b[0m \u001b[1m2s\u001b[0m 29ms/step - loss: 0.0334"
     ]
    },
    {
     "name": "stderr",
     "output_type": "stream",
     "text": [
      "C:\\Users\\salom\\AppData\\Local\\Packages\\PythonSoftwareFoundation.Python.3.11_qbz5n2kfra8p0\\LocalCache\\local-packages\\Python311\\site-packages\\keras\\src\\callbacks\\early_stopping.py:153: UserWarning: Early stopping conditioned on metric `val_loss` which is not available. Available metrics are: loss\n",
      "  current = self.get_monitor_value(logs)\n"
     ]
    },
    {
     "name": "stdout",
     "output_type": "stream",
     "text": [
      "\u001b[1m100/100\u001b[0m \u001b[32m━━━━━━━━━━━━━━━━━━━━\u001b[0m\u001b[37m\u001b[0m \u001b[1m3s\u001b[0m 27ms/step - loss: 0.3120\n",
      "Epoch 14/30\n",
      "\u001b[1m  5/100\u001b[0m \u001b[32m━\u001b[0m\u001b[37m━━━━━━━━━━━━━━━━━━━\u001b[0m \u001b[1m2s\u001b[0m 28ms/step - loss: 0.7791"
     ]
    },
    {
     "name": "stderr",
     "output_type": "stream",
     "text": [
      "C:\\Users\\salom\\AppData\\Local\\Packages\\PythonSoftwareFoundation.Python.3.11_qbz5n2kfra8p0\\LocalCache\\local-packages\\Python311\\site-packages\\keras\\src\\callbacks\\early_stopping.py:153: UserWarning: Early stopping conditioned on metric `val_loss` which is not available. Available metrics are: loss\n",
      "  current = self.get_monitor_value(logs)\n"
     ]
    },
    {
     "name": "stdout",
     "output_type": "stream",
     "text": [
      "\u001b[1m100/100\u001b[0m \u001b[32m━━━━━━━━━━━━━━━━━━━━\u001b[0m\u001b[37m\u001b[0m \u001b[1m3s\u001b[0m 26ms/step - loss: 0.3038\n",
      "Epoch 15/30\n",
      "\u001b[1m  7/100\u001b[0m \u001b[32m━\u001b[0m\u001b[37m━━━━━━━━━━━━━━━━━━━\u001b[0m \u001b[1m2s\u001b[0m 26ms/step - loss: 0.0580"
     ]
    },
    {
     "name": "stderr",
     "output_type": "stream",
     "text": [
      "C:\\Users\\salom\\AppData\\Local\\Packages\\PythonSoftwareFoundation.Python.3.11_qbz5n2kfra8p0\\LocalCache\\local-packages\\Python311\\site-packages\\keras\\src\\callbacks\\early_stopping.py:153: UserWarning: Early stopping conditioned on metric `val_loss` which is not available. Available metrics are: loss\n",
      "  current = self.get_monitor_value(logs)\n"
     ]
    },
    {
     "name": "stdout",
     "output_type": "stream",
     "text": [
      "\u001b[1m100/100\u001b[0m \u001b[32m━━━━━━━━━━━━━━━━━━━━\u001b[0m\u001b[37m\u001b[0m \u001b[1m3s\u001b[0m 27ms/step - loss: 0.2492\n",
      "Epoch 16/30\n",
      "\u001b[1m  5/100\u001b[0m \u001b[32m━\u001b[0m\u001b[37m━━━━━━━━━━━━━━━━━━━\u001b[0m \u001b[1m3s\u001b[0m 33ms/step - loss: 0.0382"
     ]
    },
    {
     "name": "stderr",
     "output_type": "stream",
     "text": [
      "C:\\Users\\salom\\AppData\\Local\\Packages\\PythonSoftwareFoundation.Python.3.11_qbz5n2kfra8p0\\LocalCache\\local-packages\\Python311\\site-packages\\keras\\src\\callbacks\\early_stopping.py:153: UserWarning: Early stopping conditioned on metric `val_loss` which is not available. Available metrics are: loss\n",
      "  current = self.get_monitor_value(logs)\n"
     ]
    },
    {
     "name": "stdout",
     "output_type": "stream",
     "text": [
      "\u001b[1m100/100\u001b[0m \u001b[32m━━━━━━━━━━━━━━━━━━━━\u001b[0m\u001b[37m\u001b[0m \u001b[1m3s\u001b[0m 27ms/step - loss: 0.3082\n",
      "Epoch 17/30\n",
      "\u001b[1m  7/100\u001b[0m \u001b[32m━\u001b[0m\u001b[37m━━━━━━━━━━━━━━━━━━━\u001b[0m \u001b[1m2s\u001b[0m 27ms/step - loss: 0.6915"
     ]
    },
    {
     "name": "stderr",
     "output_type": "stream",
     "text": [
      "C:\\Users\\salom\\AppData\\Local\\Packages\\PythonSoftwareFoundation.Python.3.11_qbz5n2kfra8p0\\LocalCache\\local-packages\\Python311\\site-packages\\keras\\src\\callbacks\\early_stopping.py:153: UserWarning: Early stopping conditioned on metric `val_loss` which is not available. Available metrics are: loss\n",
      "  current = self.get_monitor_value(logs)\n"
     ]
    },
    {
     "name": "stdout",
     "output_type": "stream",
     "text": [
      "\u001b[1m100/100\u001b[0m \u001b[32m━━━━━━━━━━━━━━━━━━━━\u001b[0m\u001b[37m\u001b[0m \u001b[1m3s\u001b[0m 26ms/step - loss: 0.3020\n",
      "Epoch 18/30\n",
      "\u001b[1m  5/100\u001b[0m \u001b[32m━\u001b[0m\u001b[37m━━━━━━━━━━━━━━━━━━━\u001b[0m \u001b[1m3s\u001b[0m 33ms/step - loss: 0.0350"
     ]
    },
    {
     "name": "stderr",
     "output_type": "stream",
     "text": [
      "C:\\Users\\salom\\AppData\\Local\\Packages\\PythonSoftwareFoundation.Python.3.11_qbz5n2kfra8p0\\LocalCache\\local-packages\\Python311\\site-packages\\keras\\src\\callbacks\\early_stopping.py:153: UserWarning: Early stopping conditioned on metric `val_loss` which is not available. Available metrics are: loss\n",
      "  current = self.get_monitor_value(logs)\n"
     ]
    },
    {
     "name": "stdout",
     "output_type": "stream",
     "text": [
      "\u001b[1m100/100\u001b[0m \u001b[32m━━━━━━━━━━━━━━━━━━━━\u001b[0m\u001b[37m\u001b[0m \u001b[1m3s\u001b[0m 27ms/step - loss: 0.2469\n",
      "Epoch 19/30\n",
      "\u001b[1m  5/100\u001b[0m \u001b[32m━\u001b[0m\u001b[37m━━━━━━━━━━━━━━━━━━━\u001b[0m \u001b[1m2s\u001b[0m 28ms/step - loss: 0.0322"
     ]
    },
    {
     "name": "stderr",
     "output_type": "stream",
     "text": [
      "C:\\Users\\salom\\AppData\\Local\\Packages\\PythonSoftwareFoundation.Python.3.11_qbz5n2kfra8p0\\LocalCache\\local-packages\\Python311\\site-packages\\keras\\src\\callbacks\\early_stopping.py:153: UserWarning: Early stopping conditioned on metric `val_loss` which is not available. Available metrics are: loss\n",
      "  current = self.get_monitor_value(logs)\n"
     ]
    },
    {
     "name": "stdout",
     "output_type": "stream",
     "text": [
      "\u001b[1m100/100\u001b[0m \u001b[32m━━━━━━━━━━━━━━━━━━━━\u001b[0m\u001b[37m\u001b[0m \u001b[1m3s\u001b[0m 27ms/step - loss: 0.3073\n",
      "Epoch 20/30\n",
      "\u001b[1m  7/100\u001b[0m \u001b[32m━\u001b[0m\u001b[37m━━━━━━━━━━━━━━━━━━━\u001b[0m \u001b[1m2s\u001b[0m 27ms/step - loss: 0.6945"
     ]
    },
    {
     "name": "stderr",
     "output_type": "stream",
     "text": [
      "C:\\Users\\salom\\AppData\\Local\\Packages\\PythonSoftwareFoundation.Python.3.11_qbz5n2kfra8p0\\LocalCache\\local-packages\\Python311\\site-packages\\keras\\src\\callbacks\\early_stopping.py:153: UserWarning: Early stopping conditioned on metric `val_loss` which is not available. Available metrics are: loss\n",
      "  current = self.get_monitor_value(logs)\n"
     ]
    },
    {
     "name": "stdout",
     "output_type": "stream",
     "text": [
      "\u001b[1m100/100\u001b[0m \u001b[32m━━━━━━━━━━━━━━━━━━━━\u001b[0m\u001b[37m\u001b[0m \u001b[1m3s\u001b[0m 27ms/step - loss: 0.3002\n",
      "Epoch 21/30\n",
      "\u001b[1m  5/100\u001b[0m \u001b[32m━\u001b[0m\u001b[37m━━━━━━━━━━━━━━━━━━━\u001b[0m \u001b[1m2s\u001b[0m 27ms/step - loss: 0.0346"
     ]
    },
    {
     "name": "stderr",
     "output_type": "stream",
     "text": [
      "C:\\Users\\salom\\AppData\\Local\\Packages\\PythonSoftwareFoundation.Python.3.11_qbz5n2kfra8p0\\LocalCache\\local-packages\\Python311\\site-packages\\keras\\src\\callbacks\\early_stopping.py:153: UserWarning: Early stopping conditioned on metric `val_loss` which is not available. Available metrics are: loss\n",
      "  current = self.get_monitor_value(logs)\n"
     ]
    },
    {
     "name": "stdout",
     "output_type": "stream",
     "text": [
      "\u001b[1m100/100\u001b[0m \u001b[32m━━━━━━━━━━━━━━━━━━━━\u001b[0m\u001b[37m\u001b[0m \u001b[1m3s\u001b[0m 26ms/step - loss: 0.2447\n",
      "Epoch 22/30\n",
      "\u001b[1m  7/100\u001b[0m \u001b[32m━\u001b[0m\u001b[37m━━━━━━━━━━━━━━━━━━━\u001b[0m \u001b[1m2s\u001b[0m 28ms/step - loss: 0.0282"
     ]
    },
    {
     "name": "stderr",
     "output_type": "stream",
     "text": [
      "C:\\Users\\salom\\AppData\\Local\\Packages\\PythonSoftwareFoundation.Python.3.11_qbz5n2kfra8p0\\LocalCache\\local-packages\\Python311\\site-packages\\keras\\src\\callbacks\\early_stopping.py:153: UserWarning: Early stopping conditioned on metric `val_loss` which is not available. Available metrics are: loss\n",
      "  current = self.get_monitor_value(logs)\n"
     ]
    },
    {
     "name": "stdout",
     "output_type": "stream",
     "text": [
      "\u001b[1m100/100\u001b[0m \u001b[32m━━━━━━━━━━━━━━━━━━━━\u001b[0m\u001b[37m\u001b[0m \u001b[1m3s\u001b[0m 26ms/step - loss: 0.3046\n",
      "Epoch 23/30\n",
      "\u001b[1m  7/100\u001b[0m \u001b[32m━\u001b[0m\u001b[37m━━━━━━━━━━━━━━━━━━━\u001b[0m \u001b[1m2s\u001b[0m 28ms/step - loss: 0.6944"
     ]
    },
    {
     "name": "stderr",
     "output_type": "stream",
     "text": [
      "C:\\Users\\salom\\AppData\\Local\\Packages\\PythonSoftwareFoundation.Python.3.11_qbz5n2kfra8p0\\LocalCache\\local-packages\\Python311\\site-packages\\keras\\src\\callbacks\\early_stopping.py:153: UserWarning: Early stopping conditioned on metric `val_loss` which is not available. Available metrics are: loss\n",
      "  current = self.get_monitor_value(logs)\n"
     ]
    },
    {
     "name": "stdout",
     "output_type": "stream",
     "text": [
      "\u001b[1m100/100\u001b[0m \u001b[32m━━━━━━━━━━━━━━━━━━━━\u001b[0m\u001b[37m\u001b[0m \u001b[1m3s\u001b[0m 26ms/step - loss: 0.2995\n",
      "Epoch 24/30\n",
      "\u001b[1m  8/100\u001b[0m \u001b[32m━\u001b[0m\u001b[37m━━━━━━━━━━━━━━━━━━━\u001b[0m \u001b[1m2s\u001b[0m 26ms/step - loss: 0.0537"
     ]
    },
    {
     "name": "stderr",
     "output_type": "stream",
     "text": [
      "C:\\Users\\salom\\AppData\\Local\\Packages\\PythonSoftwareFoundation.Python.3.11_qbz5n2kfra8p0\\LocalCache\\local-packages\\Python311\\site-packages\\keras\\src\\callbacks\\early_stopping.py:153: UserWarning: Early stopping conditioned on metric `val_loss` which is not available. Available metrics are: loss\n",
      "  current = self.get_monitor_value(logs)\n"
     ]
    },
    {
     "name": "stdout",
     "output_type": "stream",
     "text": [
      "\u001b[1m100/100\u001b[0m \u001b[32m━━━━━━━━━━━━━━━━━━━━\u001b[0m\u001b[37m\u001b[0m \u001b[1m3s\u001b[0m 27ms/step - loss: 0.2427\n",
      "Epoch 25/30\n",
      "\u001b[1m  7/100\u001b[0m \u001b[32m━\u001b[0m\u001b[37m━━━━━━━━━━━━━━━━━━━\u001b[0m \u001b[1m2s\u001b[0m 28ms/step - loss: 0.0280"
     ]
    },
    {
     "name": "stderr",
     "output_type": "stream",
     "text": [
      "C:\\Users\\salom\\AppData\\Local\\Packages\\PythonSoftwareFoundation.Python.3.11_qbz5n2kfra8p0\\LocalCache\\local-packages\\Python311\\site-packages\\keras\\src\\callbacks\\early_stopping.py:153: UserWarning: Early stopping conditioned on metric `val_loss` which is not available. Available metrics are: loss\n",
      "  current = self.get_monitor_value(logs)\n"
     ]
    },
    {
     "name": "stdout",
     "output_type": "stream",
     "text": [
      "\u001b[1m100/100\u001b[0m \u001b[32m━━━━━━━━━━━━━━━━━━━━\u001b[0m\u001b[37m\u001b[0m \u001b[1m3s\u001b[0m 27ms/step - loss: 0.3044\n",
      "Epoch 26/30\n",
      "\u001b[1m  5/100\u001b[0m \u001b[32m━\u001b[0m\u001b[37m━━━━━━━━━━━━━━━━━━━\u001b[0m \u001b[1m3s\u001b[0m 32ms/step - loss: 0.7852"
     ]
    },
    {
     "name": "stderr",
     "output_type": "stream",
     "text": [
      "C:\\Users\\salom\\AppData\\Local\\Packages\\PythonSoftwareFoundation.Python.3.11_qbz5n2kfra8p0\\LocalCache\\local-packages\\Python311\\site-packages\\keras\\src\\callbacks\\early_stopping.py:153: UserWarning: Early stopping conditioned on metric `val_loss` which is not available. Available metrics are: loss\n",
      "  current = self.get_monitor_value(logs)\n"
     ]
    },
    {
     "name": "stdout",
     "output_type": "stream",
     "text": [
      "\u001b[1m100/100\u001b[0m \u001b[32m━━━━━━━━━━━━━━━━━━━━\u001b[0m\u001b[37m\u001b[0m \u001b[1m3s\u001b[0m 29ms/step - loss: 0.2981\n",
      "Epoch 27/30\n",
      "\u001b[1m  7/100\u001b[0m \u001b[32m━\u001b[0m\u001b[37m━━━━━━━━━━━━━━━━━━━\u001b[0m \u001b[1m2s\u001b[0m 27ms/step - loss: 0.0520"
     ]
    },
    {
     "name": "stderr",
     "output_type": "stream",
     "text": [
      "C:\\Users\\salom\\AppData\\Local\\Packages\\PythonSoftwareFoundation.Python.3.11_qbz5n2kfra8p0\\LocalCache\\local-packages\\Python311\\site-packages\\keras\\src\\callbacks\\early_stopping.py:153: UserWarning: Early stopping conditioned on metric `val_loss` which is not available. Available metrics are: loss\n",
      "  current = self.get_monitor_value(logs)\n"
     ]
    },
    {
     "name": "stdout",
     "output_type": "stream",
     "text": [
      "\u001b[1m100/100\u001b[0m \u001b[32m━━━━━━━━━━━━━━━━━━━━\u001b[0m\u001b[37m\u001b[0m \u001b[1m3s\u001b[0m 26ms/step - loss: 0.2435\n",
      "Epoch 28/30\n",
      "\u001b[1m  5/100\u001b[0m \u001b[32m━\u001b[0m\u001b[37m━━━━━━━━━━━━━━━━━━━\u001b[0m \u001b[1m2s\u001b[0m 28ms/step - loss: 0.0317"
     ]
    },
    {
     "name": "stderr",
     "output_type": "stream",
     "text": [
      "C:\\Users\\salom\\AppData\\Local\\Packages\\PythonSoftwareFoundation.Python.3.11_qbz5n2kfra8p0\\LocalCache\\local-packages\\Python311\\site-packages\\keras\\src\\callbacks\\early_stopping.py:153: UserWarning: Early stopping conditioned on metric `val_loss` which is not available. Available metrics are: loss\n",
      "  current = self.get_monitor_value(logs)\n"
     ]
    },
    {
     "name": "stdout",
     "output_type": "stream",
     "text": [
      "\u001b[1m100/100\u001b[0m \u001b[32m━━━━━━━━━━━━━━━━━━━━\u001b[0m\u001b[37m\u001b[0m \u001b[1m3s\u001b[0m 26ms/step - loss: 0.3212\n",
      "Epoch 29/30\n",
      "\u001b[1m  7/100\u001b[0m \u001b[32m━\u001b[0m\u001b[37m━━━━━━━━━━━━━━━━━━━\u001b[0m \u001b[1m2s\u001b[0m 28ms/step - loss: 0.2554"
     ]
    },
    {
     "name": "stderr",
     "output_type": "stream",
     "text": [
      "C:\\Users\\salom\\AppData\\Local\\Packages\\PythonSoftwareFoundation.Python.3.11_qbz5n2kfra8p0\\LocalCache\\local-packages\\Python311\\site-packages\\keras\\src\\callbacks\\early_stopping.py:153: UserWarning: Early stopping conditioned on metric `val_loss` which is not available. Available metrics are: loss\n",
      "  current = self.get_monitor_value(logs)\n"
     ]
    },
    {
     "name": "stdout",
     "output_type": "stream",
     "text": [
      "\u001b[1m100/100\u001b[0m \u001b[32m━━━━━━━━━━━━━━━━━━━━\u001b[0m\u001b[37m\u001b[0m \u001b[1m3s\u001b[0m 26ms/step - loss: 0.2853\n",
      "Epoch 30/30\n",
      "\u001b[1m  7/100\u001b[0m \u001b[32m━\u001b[0m\u001b[37m━━━━━━━━━━━━━━━━━━━\u001b[0m \u001b[1m2s\u001b[0m 26ms/step - loss: 0.0578"
     ]
    },
    {
     "name": "stderr",
     "output_type": "stream",
     "text": [
      "C:\\Users\\salom\\AppData\\Local\\Packages\\PythonSoftwareFoundation.Python.3.11_qbz5n2kfra8p0\\LocalCache\\local-packages\\Python311\\site-packages\\keras\\src\\callbacks\\early_stopping.py:153: UserWarning: Early stopping conditioned on metric `val_loss` which is not available. Available metrics are: loss\n",
      "  current = self.get_monitor_value(logs)\n"
     ]
    },
    {
     "name": "stdout",
     "output_type": "stream",
     "text": [
      "\u001b[1m100/100\u001b[0m \u001b[32m━━━━━━━━━━━━━━━━━━━━\u001b[0m\u001b[37m\u001b[0m \u001b[1m3s\u001b[0m 27ms/step - loss: 0.2761\n"
     ]
    },
    {
     "name": "stderr",
     "output_type": "stream",
     "text": [
      "C:\\Users\\salom\\AppData\\Local\\Packages\\PythonSoftwareFoundation.Python.3.11_qbz5n2kfra8p0\\LocalCache\\local-packages\\Python311\\site-packages\\keras\\src\\callbacks\\early_stopping.py:153: UserWarning: Early stopping conditioned on metric `val_loss` which is not available. Available metrics are: loss\n",
      "  current = self.get_monitor_value(logs)\n"
     ]
    },
    {
     "data": {
      "text/plain": [
       "<keras.src.callbacks.history.History at 0x2548ce4bd50>"
      ]
     },
     "execution_count": 20,
     "metadata": {},
     "output_type": "execute_result"
    }
   ],
   "source": [
    "early_stop = EarlyStopping(monitor='val_loss', patience=10, restore_best_weights=True)\n",
    "model.fit(train_gen, steps_per_epoch=100, epochs=30,  callbacks=[early_stop])"
   ]
  },
  {
   "cell_type": "code",
   "execution_count": 21,
   "id": "3aff485c",
   "metadata": {},
   "outputs": [],
   "source": [
    "model.save(\"lstm_tree_model.keras\")\n"
   ]
  },
  {
   "cell_type": "code",
   "execution_count": 22,
   "id": "0403a50a",
   "metadata": {},
   "outputs": [],
   "source": [
    "test_gen = grouped_sequence_generator(\n",
    "    df=test_df,\n",
    "    group_col='tree.id',\n",
    "    time_col='ts',\n",
    "    target_col=target_column,\n",
    "    features=dynamic_features,           # only dynamic features\n",
    "    static_features=static_features,     # still includes mch_elevation and encodings\n",
    "    seq_length=SEQ_LENGTH,\n",
    "    batch_size=BATCH_SIZE,\n",
    "    include_meta=True\n",
    ")\n"
   ]
  },
  {
   "cell_type": "code",
   "execution_count": null,
   "id": "8a46b155",
   "metadata": {},
   "outputs": [
    {
     "ename": "ValueError",
     "evalue": "Invalid dtype: str320",
     "output_type": "error",
     "traceback": [
      "\u001b[31m---------------------------------------------------------------------------\u001b[39m",
      "\u001b[31mValueError\u001b[39m                                Traceback (most recent call last)",
      "\u001b[36mCell\u001b[39m\u001b[36m \u001b[39m\u001b[32mIn[23]\u001b[39m\u001b[32m, line 1\u001b[39m\n\u001b[32m----> \u001b[39m\u001b[32m1\u001b[39m loss = \u001b[43mmodel\u001b[49m\u001b[43m.\u001b[49m\u001b[43mevaluate\u001b[49m\u001b[43m(\u001b[49m\u001b[43mtest_gen\u001b[49m\u001b[43m,\u001b[49m\u001b[43m \u001b[49m\u001b[43msteps\u001b[49m\u001b[43m=\u001b[49m\u001b[32;43m50\u001b[39;49m\u001b[43m)\u001b[49m\n\u001b[32m      2\u001b[39m \u001b[38;5;28mprint\u001b[39m(\u001b[33m\"\u001b[39m\u001b[33mTest MSE:\u001b[39m\u001b[33m\"\u001b[39m, loss)\n",
      "\u001b[36mFile \u001b[39m\u001b[32m~\\AppData\\Local\\Packages\\PythonSoftwareFoundation.Python.3.11_qbz5n2kfra8p0\\LocalCache\\local-packages\\Python311\\site-packages\\keras\\src\\utils\\traceback_utils.py:122\u001b[39m, in \u001b[36mfilter_traceback.<locals>.error_handler\u001b[39m\u001b[34m(*args, **kwargs)\u001b[39m\n\u001b[32m    119\u001b[39m     filtered_tb = _process_traceback_frames(e.__traceback__)\n\u001b[32m    120\u001b[39m     \u001b[38;5;66;03m# To get the full stack trace, call:\u001b[39;00m\n\u001b[32m    121\u001b[39m     \u001b[38;5;66;03m# `keras.config.disable_traceback_filtering()`\u001b[39;00m\n\u001b[32m--> \u001b[39m\u001b[32m122\u001b[39m     \u001b[38;5;28;01mraise\u001b[39;00m e.with_traceback(filtered_tb) \u001b[38;5;28;01mfrom\u001b[39;00m\u001b[38;5;250m \u001b[39m\u001b[38;5;28;01mNone\u001b[39;00m\n\u001b[32m    123\u001b[39m \u001b[38;5;28;01mfinally\u001b[39;00m:\n\u001b[32m    124\u001b[39m     \u001b[38;5;28;01mdel\u001b[39;00m filtered_tb\n",
      "\u001b[36mFile \u001b[39m\u001b[32m~\\AppData\\Local\\Packages\\PythonSoftwareFoundation.Python.3.11_qbz5n2kfra8p0\\LocalCache\\local-packages\\Python311\\site-packages\\optree\\ops.py:766\u001b[39m, in \u001b[36mtree_map\u001b[39m\u001b[34m(func, tree, is_leaf, none_is_leaf, namespace, *rests)\u001b[39m\n\u001b[32m    764\u001b[39m leaves, treespec = _C.flatten(tree, is_leaf, none_is_leaf, namespace)\n\u001b[32m    765\u001b[39m flat_args = [leaves] + [treespec.flatten_up_to(r) \u001b[38;5;28;01mfor\u001b[39;00m r \u001b[38;5;129;01min\u001b[39;00m rests]\n\u001b[32m--> \u001b[39m\u001b[32m766\u001b[39m \u001b[38;5;28;01mreturn\u001b[39;00m \u001b[43mtreespec\u001b[49m\u001b[43m.\u001b[49m\u001b[43munflatten\u001b[49m\u001b[43m(\u001b[49m\u001b[38;5;28;43mmap\u001b[39;49m\u001b[43m(\u001b[49m\u001b[43mfunc\u001b[49m\u001b[43m,\u001b[49m\u001b[43m \u001b[49m\u001b[43m*\u001b[49m\u001b[43mflat_args\u001b[49m\u001b[43m)\u001b[49m\u001b[43m)\u001b[49m\n",
      "\u001b[31mValueError\u001b[39m: Invalid dtype: str320"
     ]
    }
   ],
   "source": [
    "\n"
   ]
  },
  {
   "cell_type": "code",
   "execution_count": 25,
   "id": "54a0e1a6",
   "metadata": {},
   "outputs": [
    {
     "name": "stdout",
     "output_type": "stream",
     "text": [
      "\u001b[1m1/1\u001b[0m \u001b[32m━━━━━━━━━━━━━━━━━━━━\u001b[0m\u001b[37m\u001b[0m \u001b[1m0s\u001b[0m 166ms/step\n"
     ]
    },
    {
     "data": {
      "image/png": "[encoded data removed]",
      "text/plain": [
       "<Figure size 640x480 with 1 Axes>"
      ]
     },
     "metadata": {},
     "output_type": "display_data"
    }
   ],
   "source": [
    "inputs, y_true, tree_ids, timestamps = next(test_gen)\n",
    "y_pred = model.predict(inputs)\n",
    "\n",
    "import matplotlib.pyplot as plt\n",
    "plt.plot(y_true, label=\"True\") # sample index within batch\n",
    "plt.plot(y_pred, label=\"Predicted\")\n",
    "plt.legend()\n",
    "plt.title(\"Model Predictions vs. Ground Truth\")\n",
    "plt.show()\n"
   ]
  }
 ],
 "metadata": {
  "kernelspec": {
   "display_name": "Python 3",
   "language": "python",
   "name": "python3"
  },
  "language_info": {
   "codemirror_mode": {
    "name": "ipython",
    "version": 3
   },
   "file_extension": ".py",
   "mimetype": "text/x-python",
   "name": "python",
   "nbconvert_exporter": "python",
   "pygments_lexer": "ipython3",
   "version": "3.11.9"
  }
 },
 "nbformat": 4,
 "nbformat_minor": 5
}
